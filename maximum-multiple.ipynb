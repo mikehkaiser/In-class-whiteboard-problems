{
 "cells": [
  {
   "cell_type": "markdown",
   "id": "89f63002",
   "metadata": {},
   "source": [
    "# Maximum Multiples"
   ]
  },
  {
   "cell_type": "code",
   "execution_count": null,
   "id": "6fb82089",
   "metadata": {},
   "outputs": [],
   "source": [
    "Maximum Multiples\n",
    "Given a divisor and a bound, find the largest integer N such that:\n",
    "N is divisible by the divisor\n",
    "N is less than or equal to bound\n",
    "N is greater than 0\n",
    "Example Input: solution(2,7)\n",
    "Example Output: 6\n",
    "Example Input: solution(3,12)\n",
    "Example Output: 12"
   ]
  },
  {
   "cell_type": "code",
   "execution_count": 28,
   "id": "90f13a8c",
   "metadata": {},
   "outputs": [
    {
     "data": {
      "text/plain": [
       "1999999999991"
      ]
     },
     "execution_count": 28,
     "metadata": {},
     "output_type": "execute_result"
    }
   ],
   "source": [
    "def max_mult(divisor, bound):\n",
    "        return (bound // divisor) * divisor\n",
    "\n",
    "max_mult(17, 2000000000000)\n",
    "            "
   ]
  }
 ],
 "metadata": {
  "kernelspec": {
   "display_name": "Python 3",
   "language": "python",
   "name": "python3"
  },
  "language_info": {
   "codemirror_mode": {
    "name": "ipython",
    "version": 3
   },
   "file_extension": ".py",
   "mimetype": "text/x-python",
   "name": "python",
   "nbconvert_exporter": "python",
   "pygments_lexer": "ipython3",
   "version": "3.8.8"
  }
 },
 "nbformat": 4,
 "nbformat_minor": 5
}
