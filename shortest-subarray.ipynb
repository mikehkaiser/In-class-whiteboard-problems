{
 "cells": [
  {
   "cell_type": "markdown",
   "id": "00370025",
   "metadata": {},
   "source": [
    "## Degree of an array"
   ]
  },
  {
   "cell_type": "code",
   "execution_count": null,
   "id": "c65044b8",
   "metadata": {},
   "outputs": [],
   "source": [
    "Degree of an array\n",
    "Given a non-empty array of non-negative integers nums, the degree of \n",
    "this array is defined as the maximum frequency of any one of its elements.\n",
    "Your task is to find the smallest possible length of a (contiguous) subarray of nums, \n",
    "that has the same degree as nums.\n",
    "Example 1:\n",
    "Input: nums = [1,2,2,3,1]\n",
    "Output: 2\n",
    "Explanation:\n",
    "The input array has a degree of 2 because both elements 1 and 2 appear twice.\n",
    "Of the subarrays that have the same degree:\n",
    "[1, 2, 2, 3, 1], [1, 2, 2, 3], [2, 2, 3, 1], [1, 2, 2], [2, 2, 3], [2, 2]\n",
    "The shortest length is 2. So return 2.\n",
    "Example 2:\n",
    "Input: nums = [1,2,2,3,1,4,2]\n",
    "Output: 6\n",
    "Explanation:\n",
    "The degree is 3 because the element 2 is repeated 3 times.\n",
    "So [2,2,3,1,4,2] is the shortest subarray, therefore returning 6.\n",
    "# degree is the count of the highest occurring member\n",
    "# find the frequency, then remove items until you're left with the shortest possible\n",
    "# array that has the same frequency"
   ]
  },
  {
   "cell_type": "code",
   "execution_count": 41,
   "id": "151f4d35",
   "metadata": {},
   "outputs": [
    {
     "name": "stdout",
     "output_type": "stream",
     "text": [
      "[1, 1, 1, 1, 1, 1, 1]\n"
     ]
    }
   ],
   "source": [
    "# we need to find the element with the highest count first\n",
    "# define a function\n",
    "# loop through, keep a count and find highest count\n",
    "# find the length of the smallest slice that has that count\n",
    "def shortFreq(arr_1):\n",
    "    # find the degree\n",
    "    # find the first and last instance of the element\n",
    "    # find the length of a slice going from first to last\n",
    "    a_dict = {}\n",
    "    first = None\n",
    "    last = None\n",
    "    element = None\n",
    "    element_list = []\n",
    "    for char in arr_1:\n",
    "        a_dict[arr_1.count(char)] = char\n",
    "    element = a_dict[max(a_dict.keys())]\n",
    "    for i in range(len(arr_1)):\n",
    "        if arr_1[i] == element and arr_1.index(element) not in element_list:\n",
    "            element_list.append(arr_1.index(element))\n",
    "        else:\n",
    "            element_list.append(arr_1.index(element))\n",
    "        \n",
    "    print(element_list)\n",
    "        \n",
    "        \n",
    "nums = [1,2,2,3,1,4,2]\n",
    "shortFreq(nums)\n",
    "        "
   ]
  },
  {
   "cell_type": "code",
   "execution_count": null,
   "id": "b98551cb",
   "metadata": {},
   "outputs": [],
   "source": [
    "# this is hard"
   ]
  }
 ],
 "metadata": {
  "kernelspec": {
   "display_name": "Python 3",
   "language": "python",
   "name": "python3"
  },
  "language_info": {
   "codemirror_mode": {
    "name": "ipython",
    "version": 3
   },
   "file_extension": ".py",
   "mimetype": "text/x-python",
   "name": "python",
   "nbconvert_exporter": "python",
   "pygments_lexer": "ipython3",
   "version": "3.8.8"
  }
 },
 "nbformat": 4,
 "nbformat_minor": 5
}
