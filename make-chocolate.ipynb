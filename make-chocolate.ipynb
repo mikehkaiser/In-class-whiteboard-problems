{
 "cells": [
  {
   "cell_type": "code",
   "execution_count": null,
   "id": "4ba6e70c",
   "metadata": {},
   "outputs": [],
   "source": [
    "# Define a make_chocolate function that takes in (in order) small, big, goal\n",
    "# The goal is the Total number of lbs of Choclate you want to recieve\n",
    "# big is the number of large pieces of chocolate you have available\n",
    "# big chocolate weighs 5 pounds\n",
    "# small is the number of small pieces of chocolate you have available\n",
    "# small chocolate weights 1 pounds\n",
    "# We want to use as many large bars of chocolate as possible to reach our Goal weight\n",
    "# the Function should return the number of small\n",
    "# pieces of chocolate you need to use to reach your goal\n",
    "# If you cannot reach your goal return -1\n",
    "\n",
    "def make_chocolate(small, big, goal):\n",
    "    pass\n",
    "  \n",
    "\n",
    "def is_equal(qn,num1, num2):\n",
    "    if num1==num2:\n",
    "        print(f\"Test {qn} is Correct\")\n",
    "    else:\n",
    "        print(f\"Test {qn} is Incorrect\")\n",
    "\n",
    "is_equal(1,make_chocolate(4, 1, 9), 4)\n",
    "is_equal(2,make_chocolate(4, 1, 10),-1) \n",
    "is_equal(3,make_chocolate(4, 1, 7) ,2)\n",
    "is_equal(4,make_chocolate(6, 2, 7) ,2)\n",
    "is_equal(5,make_chocolate(4, 1, 5) ,0)\n",
    "is_equal(6,make_chocolate(4, 1, 4) ,4)\n",
    "is_equal(7,make_chocolate(5, 4, 9) ,4)\n",
    "is_equal(8,make_chocolate(9, 3, 18),3)\n",
    "is_equal(9,make_chocolate(3, 1, 9) ,-1)\n",
    "is_equal(10,make_chocolate(1, 2, 7) ,-1)\n",
    "is_equal(11,make_chocolate(1, 2, 6) ,1)\n",
    "is_equal(12,make_chocolate(1, 2, 5) , 0)\n",
    "is_equal(13,make_chocolate(6, 1, 10) ,5)\n",
    "is_equal(14,make_chocolate(6, 1, 11) ,6)\n",
    "is_equal(15,make_chocolate(6, 1, 12) ,-1)\n",
    "is_equal(16,make_chocolate(6, 1, 13) ,-1)\n",
    "is_equal(17,make_chocolate(6, 2, 10) ,0)\n",
    "is_equal(18,make_chocolate(6, 2, 11) ,1)\n",
    "is_equal(19,make_chocolate(6, 2, 12) ,2)\n",
    "is_equal(20,make_chocolate(60, 100, 550) ,50)\n",
    "is_equal(21,make_chocolate(1000, 1000000, 5000006),6) \n",
    "is_equal(22,make_chocolate(7, 1, 12) , 7)\n",
    "is_equal(23,make_chocolate(7, 1, 13) , -1)\n",
    "is_equal(24,make_chocolate(7, 2, 13) , 3)"
   ]
  },
  {
   "cell_type": "code",
   "execution_count": null,
   "id": "285a8be3",
   "metadata": {},
   "outputs": [],
   "source": []
  }
 ],
 "metadata": {
  "kernelspec": {
   "display_name": "Python 3",
   "language": "python",
   "name": "python3"
  },
  "language_info": {
   "codemirror_mode": {
    "name": "ipython",
    "version": 3
   },
   "file_extension": ".py",
   "mimetype": "text/x-python",
   "name": "python",
   "nbconvert_exporter": "python",
   "pygments_lexer": "ipython3",
   "version": "3.8.8"
  }
 },
 "nbformat": 4,
 "nbformat_minor": 5
}
