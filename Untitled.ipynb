{
 "cells": [
  {
   "cell_type": "markdown",
   "id": "437b4a34",
   "metadata": {},
   "source": [
    "## Is subsequence?"
   ]
  },
  {
   "cell_type": "code",
   "execution_count": null,
   "id": "7c025ec0",
   "metadata": {},
   "outputs": [],
   "source": [
    "s Subsequence\n",
    "Given two strings s and t, return true if s is a subsequence of t, or false otherwise.\n",
    "A subsequence of a string is a new string that is formed \n",
    "from the original string by deleting some (can be none) of the characters \n",
    "without disturbing the relative positions of the remaining characters. \n",
    "(i.e., \"ace\" is a subsequence of \"abcde\" while \"aec\" is not).\n",
    "Example 1:\n",
    "Input: s = \"abc\", t = \"ahbgdc\"\n",
    "Output: true\n",
    "Example 2:\n",
    "Input: s = \"axc\", t = \"ahbgdc\"\n",
    "Output: false"
   ]
  },
  {
   "cell_type": "code",
   "execution_count": 2,
   "id": "59bcb4be",
   "metadata": {},
   "outputs": [
    {
     "data": {
      "text/plain": [
       "False"
      ]
     },
     "execution_count": 2,
     "metadata": {},
     "output_type": "execute_result"
    }
   ],
   "source": [
    "def isSub(s, t):\n",
    "    out = False\n",
    "    \n",
    "    \n",
    "\n",
    "isSub('abe','abcde')"
   ]
  },
  {
   "cell_type": "code",
   "execution_count": null,
   "id": "cc55d19b",
   "metadata": {},
   "outputs": [],
   "source": []
  }
 ],
 "metadata": {
  "kernelspec": {
   "display_name": "Python 3",
   "language": "python",
   "name": "python3"
  },
  "language_info": {
   "codemirror_mode": {
    "name": "ipython",
    "version": 3
   },
   "file_extension": ".py",
   "mimetype": "text/x-python",
   "name": "python",
   "nbconvert_exporter": "python",
   "pygments_lexer": "ipython3",
   "version": "3.8.8"
  }
 },
 "nbformat": 4,
 "nbformat_minor": 5
}
