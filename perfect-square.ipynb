{
 "cells": [
  {
   "cell_type": "markdown",
   "id": "b469ee5c",
   "metadata": {},
   "source": [
    "# Perfect Square"
   ]
  },
  {
   "cell_type": "code",
   "execution_count": 23,
   "id": "f5fd001c",
   "metadata": {},
   "outputs": [
    {
     "data": {
      "text/plain": [
       "True"
      ]
     },
     "execution_count": 23,
     "metadata": {},
     "output_type": "execute_result"
    }
   ],
   "source": [
    "def perfSquare(num):\n",
    "    #square root is num/checker = checker\n",
    "    # if checker ** 2 = num, return true,\n",
    "    #but how do you cap the checker\n",
    "    i = 1\n",
    "    while i <= num/i:\n",
    "        if num//i == i:\n",
    "            return True\n",
    "        else:\n",
    "            i += 1\n",
    "    return False\n",
    "        \n",
    "    \n",
    "# Dumb dumb...take the number**0.5...same thing as square root\n",
    "def perfectSquare(num):\n",
    "    if num**0.5.is_integer():\n",
    "        return True\n",
    "    else:\n",
    "        return False\n",
    "    \n",
    "# or \n",
    "\n",
    "def perfSquare2(num):\n",
    "    return num**(0.5).is_integer()\n",
    "    \n",
    "# or\n",
    "\n",
    "def perfSquare3(num):\n",
    "    return int(num**(0.5)) == num**0.5\n",
    "    \n",
    "perfSquare3(10000000000000000000000000000)\n"
   ]
  },
  {
   "cell_type": "code",
   "execution_count": null,
   "id": "e19eb1c3",
   "metadata": {},
   "outputs": [],
   "source": []
  }
 ],
 "metadata": {
  "kernelspec": {
   "display_name": "Python 3",
   "language": "python",
   "name": "python3"
  },
  "language_info": {
   "codemirror_mode": {
    "name": "ipython",
    "version": 3
   },
   "file_extension": ".py",
   "mimetype": "text/x-python",
   "name": "python",
   "nbconvert_exporter": "python",
   "pygments_lexer": "ipython3",
   "version": "3.8.8"
  }
 },
 "nbformat": 4,
 "nbformat_minor": 5
}
