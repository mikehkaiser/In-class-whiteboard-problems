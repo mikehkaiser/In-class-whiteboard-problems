{
 "cells": [
  {
   "cell_type": "code",
   "execution_count": null,
   "id": "bc02965f",
   "metadata": {},
   "outputs": [],
   "source": [
    "Count Palindromes\n",
    "-----------------\n",
    "Given a list of strings, count the number of palindromes that occur inside of the list \n",
    "(a palindrome is a word that is spelled the same backwards and forward).\n",
    "Example 1\n",
    "Input: solution([\"level\",\"noon\", \"putty\"])\n",
    "Output: 2\n",
    "Example 2\n",
    "Input: solution([\"Tommy\", \"Trini\", \"Zack\"])\n",
    "Output: 0"
   ]
  },
  {
   "cell_type": "code",
   "execution_count": 6,
   "id": "8c9b532c",
   "metadata": {},
   "outputs": [
    {
     "data": {
      "text/plain": [
       "2"
      ]
     },
     "execution_count": 6,
     "metadata": {},
     "output_type": "execute_result"
    }
   ],
   "source": [
    "# input is a list of strings\n",
    "# ouput is an integer: number of strings that are palindromes\n",
    "# look at each word\n",
    "# create empty list to hold flipped wrods\n",
    "# loop through list of strings\n",
    "# flip each one and append to new list\n",
    "# loop through again, and if list_1[i] == list_2[i], add one to counter, which is returned\n",
    "\n",
    "def palindromes(arr):\n",
    "    counter = 0\n",
    "#     new_list = []\n",
    "    for word in arr:\n",
    "        if word == word[::-1]:\n",
    "#     for i in range(len(arr)):\n",
    "#         if arr[i] == new_list[i]:\n",
    "            counter += 1\n",
    "    return counter\n",
    "\n",
    "palindromes([\"level\",\"noon\", \"putty\"])"
   ]
  },
  {
   "cell_type": "markdown",
   "id": "5cdf2c91",
   "metadata": {},
   "source": [
    "# 2"
   ]
  },
  {
   "cell_type": "code",
   "execution_count": null,
   "id": "d8e24a62",
   "metadata": {},
   "outputs": [],
   "source": [
    "Given an array of integers nums and an integer target, return indices of the two numbers such \n",
    "that they add up to target.\n",
    "You may assume that each input would have exactly one solution, and you may not use \n",
    "the same element twice.\n",
    "You can return the answer in any order.\n",
    "Input: nums = [2,7,11,15], target = 9\n",
    "Output: [0,1]\n",
    "Explained: Because nums[0] + nums[1] == 9, we return [0, 1].\n",
    "Input: nums = [3,2,4], target = 6\n",
    "Output: [1,2]"
   ]
  },
  {
   "cell_type": "code",
   "execution_count": 7,
   "id": "29112c43",
   "metadata": {},
   "outputs": [
    {
     "data": {
      "text/plain": [
       "[1, 0]"
      ]
     },
     "execution_count": 7,
     "metadata": {},
     "output_type": "execute_result"
    }
   ],
   "source": [
    "# input is list of nums and target integer\n",
    "# output is going to be 2 integers, representing the indeces of arr that equal target when added\n",
    "# make empty dictionary\n",
    "# loop through nums\n",
    "# match = target - num in nums\n",
    "# store each num in dictionary with index\n",
    "# if match is in dictionary, return value of dictionary[match], i\n",
    "\n",
    "def findMatch(arr, target):\n",
    "    a_dict = {}\n",
    "    for i in range(len(arr)):\n",
    "        match = target - arr[i]\n",
    "        if match in a_dict:\n",
    "            return [i, a_dict[match]]\n",
    "        else:\n",
    "            a_dict[arr[i]] = i\n",
    "            \n",
    "findMatch([2,7,11,15],9)"
   ]
  },
  {
   "cell_type": "code",
   "execution_count": null,
   "id": "3f8ab7d8",
   "metadata": {},
   "outputs": [],
   "source": []
  }
 ],
 "metadata": {
  "kernelspec": {
   "display_name": "Python 3",
   "language": "python",
   "name": "python3"
  },
  "language_info": {
   "codemirror_mode": {
    "name": "ipython",
    "version": 3
   },
   "file_extension": ".py",
   "mimetype": "text/x-python",
   "name": "python",
   "nbconvert_exporter": "python",
   "pygments_lexer": "ipython3",
   "version": "3.8.8"
  }
 },
 "nbformat": 4,
 "nbformat_minor": 5
}
