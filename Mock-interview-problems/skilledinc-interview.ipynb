{
 "cells": [
  {
   "cell_type": "code",
   "execution_count": 2,
   "id": "5577237d",
   "metadata": {},
   "outputs": [
    {
     "name": "stdout",
     "output_type": "stream",
     "text": [
      "gf$edcba%\n"
     ]
    }
   ],
   "source": [
    "# Reverse a string, but keep any special characters in their original positions\n",
    "# example: \"ab$cdefg%\" -> \"gf$edcba%\"\n",
    "# input is a string of alpha-numeric char and special characters\n",
    "# output is a string, alpha/numeric are reversed\n",
    "# special characters retain their index from input\n",
    "# loop through the input\n",
    "# keep track of indeces of characters, add them back in reverse order expect for special\n",
    "# isalpha or isdigit\n",
    "# two dictionaries - one for specials one for nonspecials\n",
    "# maybe just a swap if alpha or digit\n",
    "# maybe two pointers, evaluate each character for alpha or digit, if so, swap, if not, leave it alone\n",
    "# start at the end of the string and that last character becomes the new first\n",
    "# set up a result string that will be returned later\n",
    "# loop through input beginning at the end\n",
    "# turn string into list\n",
    "# left pointer = 0\n",
    "# right = string[-1]\n",
    "# if left and right are both alpha, swap\n",
    "# if left is special, left += 1\n",
    "# if right is special, right -= 1\n",
    "# that should swap just alpha characters in the list\n",
    "# return string version of list\n",
    "def reverseAlphas(string):\n",
    "  a_list = list(string)\n",
    "  l = 0\n",
    "  r = len(a_list)-1\n",
    "  while l < r:\n",
    "    if a_list[l].isalnum() and a_list[r].isalnum():\n",
    "      a_list[l], a_list[r] = a_list[r], a_list[l]\n",
    "      l += 1\n",
    "      r -= 1\n",
    "    elif not a_list[l].isalnum():\n",
    "      l += 1\n",
    "    elif not a_list[r].isalnum():\n",
    "      r -= 1\n",
    "  print(''.join(a_list))\n",
    "\n",
    "reverseAlphas(\"ab$cdefg%\")"
   ]
  },
  {
   "cell_type": "code",
   "execution_count": null,
   "id": "b284af2b",
   "metadata": {},
   "outputs": [],
   "source": []
  }
 ],
 "metadata": {
  "kernelspec": {
   "display_name": "Python 3",
   "language": "python",
   "name": "python3"
  },
  "language_info": {
   "codemirror_mode": {
    "name": "ipython",
    "version": 3
   },
   "file_extension": ".py",
   "mimetype": "text/x-python",
   "name": "python",
   "nbconvert_exporter": "python",
   "pygments_lexer": "ipython3",
   "version": "3.8.8"
  }
 },
 "nbformat": 4,
 "nbformat_minor": 5
}
