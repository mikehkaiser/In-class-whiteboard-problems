{
 "cells": [
  {
   "cell_type": "markdown",
   "id": "635cc017",
   "metadata": {},
   "source": [
    "# Running Sum"
   ]
  },
  {
   "cell_type": "code",
   "execution_count": null,
   "id": "0f33ced7",
   "metadata": {},
   "outputs": [],
   "source": [
    "Running Sum of 1d Array\n",
    "Given an array nums. We define a running sum of an array as runningSum[i] = sum(nums[0]…nums[i]).\n",
    "Return the running sum of nums.\n",
    "Example 1:\n",
    "Input: nums = [1,2,3,4]\n",
    "Output: [1,3,6,10]\n",
    "Explanation: Running sum is obtained as follows: [1, 1+2, 1+2+3, 1+2+3+4].\n",
    "Example 2:\n",
    "Input: nums = [1,1,1,1,1]\n",
    "Output: [1,2,3,4,5]\n",
    "Explanation: Running sum is obtained as follows: [1, 1+1, 1+1+1, 1+1+1+1, 1+1+1+1+1].\n",
    "Example 3:\n",
    "Input: nums = [3,1,2,10,1]\n",
    "Output: [3,4,6,16,17]"
   ]
  },
  {
   "cell_type": "code",
   "execution_count": 13,
   "id": "3c6f1e6d",
   "metadata": {},
   "outputs": [
    {
     "data": {
      "text/plain": [
       "[1, 3, 6, 10]"
      ]
     },
     "execution_count": 13,
     "metadata": {},
     "output_type": "execute_result"
    }
   ],
   "source": [
    "# let i = index 0 of array\n",
    "# add arr[i] + arr[i+1]\n",
    "# then arr[i+1] becomes the new arr[i+1]\n",
    "\n",
    "def runningSum(arr):\n",
    "    added = 0\n",
    "    newList = []\n",
    "    for i in range(len(arr)):\n",
    "        added += arr[i]\n",
    "        newList.append(added)\n",
    "    return newList\n",
    "\n",
    "nums = [1,2,3,4]\n",
    "\n",
    "runningSum(nums)\n"
   ]
  },
  {
   "cell_type": "code",
   "execution_count": 10,
   "id": "418ee99d",
   "metadata": {},
   "outputs": [
    {
     "data": {
      "text/plain": [
       "[1, 2, 3, 4]"
      ]
     },
     "execution_count": 10,
     "metadata": {},
     "output_type": "execute_result"
    }
   ],
   "source": [
    "def runSum(arr):\n",
    "    newList=[]\n",
    "    counter = 0\n",
    "    for i in range(len(arr)):\n",
    "        counter+=arr[i]\n",
    "        newList.append(counter)\n",
    "    return newList\n",
    "\n",
    "nums = [1,1,1,1]\n",
    "runSum(nums)"
   ]
  },
  {
   "cell_type": "code",
   "execution_count": 15,
   "id": "0b44688c",
   "metadata": {},
   "outputs": [
    {
     "name": "stdout",
     "output_type": "stream",
     "text": [
      "[1, 3, 3, 4]\n",
      "[1, 3, 6, 4]\n",
      "[1, 3, 6, 10]\n"
     ]
    },
    {
     "data": {
      "text/plain": [
       "[1, 3, 6, 10]"
      ]
     },
     "execution_count": 15,
     "metadata": {},
     "output_type": "execute_result"
    }
   ],
   "source": [
    "def runningSum2(arr):\n",
    "    for i in range(len(arr)):\n",
    "        if i != 0:\n",
    "            arr[i] = arr[i] + arr[i-1]\n",
    "            i += 1\n",
    "            print(arr)\n",
    "    return arr\n",
    "\n",
    "nums = [1,2,3,4]\n",
    "\n",
    "runningSum2(nums)"
   ]
  },
  {
   "cell_type": "code",
   "execution_count": null,
   "id": "765394e0",
   "metadata": {},
   "outputs": [],
   "source": []
  }
 ],
 "metadata": {
  "kernelspec": {
   "display_name": "Python 3",
   "language": "python",
   "name": "python3"
  },
  "language_info": {
   "codemirror_mode": {
    "name": "ipython",
    "version": 3
   },
   "file_extension": ".py",
   "mimetype": "text/x-python",
   "name": "python",
   "nbconvert_exporter": "python",
   "pygments_lexer": "ipython3",
   "version": "3.8.8"
  }
 },
 "nbformat": 4,
 "nbformat_minor": 5
}
