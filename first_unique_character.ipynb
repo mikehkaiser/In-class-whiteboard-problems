{
 "cells": [
  {
   "cell_type": "markdown",
   "id": "d583f8aa",
   "metadata": {},
   "source": [
    "## First Uniqe Character"
   ]
  },
  {
   "cell_type": "code",
   "execution_count": null,
   "id": "d2cbf97b",
   "metadata": {},
   "outputs": [],
   "source": [
    "First Unique Character in a String\n",
    "Given a string s, find the first non-repeating character in it and return its index. \n",
    "If it does not exist, return -1.\n",
    "Example 1:\n",
    "Input: s = \"leetcode\"\n",
    "Output: 0\n",
    "Example 2:\n",
    "Input: s = \"loveleetcode\"\n",
    "Output: 2\n",
    "Example 3:\n",
    "Input: s = \"aabb\"\n",
    "Output: -1\n",
    " \n",
    " \n",
    "Constraints:\n",
    "1 <= s.length <= 105\n",
    "s consists of only lowercase English letters."
   ]
  },
  {
   "cell_type": "code",
   "execution_count": 6,
   "id": "21666f7f",
   "metadata": {},
   "outputs": [
    {
     "data": {
      "text/plain": [
       "12"
      ]
     },
     "execution_count": 6,
     "metadata": {},
     "output_type": "execute_result"
    }
   ],
   "source": [
    "# turn into list\n",
    "# loop, if s.count(char) == 1, return s.index(char)\n",
    "# if count == 1, return s.index(char)\n",
    "\n",
    "def uniqueChar(s):\n",
    "#     list_s  = list(s)\n",
    "    for char in s:\n",
    "        if s.count(char) == 1:\n",
    "            return s.index(char)\n",
    "    return -1\n",
    "\n",
    "uniqueChar('aabbccddeeffghijkl')    \n"
   ]
  },
  {
   "cell_type": "code",
   "execution_count": 21,
   "id": "9917a27e",
   "metadata": {},
   "outputs": [
    {
     "data": {
      "text/plain": [
       "-1"
      ]
     },
     "execution_count": 21,
     "metadata": {},
     "output_type": "execute_result"
    }
   ],
   "source": [
    "def uniqueChar2(s):\n",
    "    first = {}\n",
    "    repeat = {}\n",
    "    lowest = -1\n",
    "    for char in s:\n",
    "        if char not in first:\n",
    "            first[char] = s.index(char)\n",
    "        else:\n",
    "            repeat[char] = s.index(char)\n",
    "    for i in range(len(s)):\n",
    "        if s[i] in repeat:\n",
    "            continue\n",
    "        else:\n",
    "            return first[s[i]]\n",
    "    return lowest\n",
    "        \n",
    "uniqueChar2('loveleetccovtdde')"
   ]
  },
  {
   "cell_type": "code",
   "execution_count": null,
   "id": "99af3f87",
   "metadata": {},
   "outputs": [],
   "source": [
    "def uniqueChar3(s):\n",
    "    m = Counter(s)\n",
    "    for char,i in enumerate(s):\n",
    "        if m[char] == 1:\n",
    "            return i\n",
    "    return -1\n",
    "\n",
    "uniqueChar3('loveleetcode')"
   ]
  },
  {
   "cell_type": "code",
   "execution_count": 23,
   "id": "0fe652db",
   "metadata": {},
   "outputs": [
    {
     "name": "stdout",
     "output_type": "stream",
     "text": [
      "0 l\n",
      "1 o\n",
      "2 v\n",
      "3 e\n",
      "4 l\n",
      "5 e\n",
      "6 e\n",
      "7 t\n",
      "8 c\n",
      "9 o\n",
      "10 d\n",
      "11 e\n"
     ]
    }
   ],
   "source": [
    "for i, char in enumerate('loveleetcode'):\n",
    "    print(i, char)\n",
    "\n"
   ]
  },
  {
   "cell_type": "code",
   "execution_count": null,
   "id": "8a429473",
   "metadata": {},
   "outputs": [],
   "source": []
  }
 ],
 "metadata": {
  "kernelspec": {
   "display_name": "Python 3",
   "language": "python",
   "name": "python3"
  },
  "language_info": {
   "codemirror_mode": {
    "name": "ipython",
    "version": 3
   },
   "file_extension": ".py",
   "mimetype": "text/x-python",
   "name": "python",
   "nbconvert_exporter": "python",
   "pygments_lexer": "ipython3",
   "version": "3.8.8"
  }
 },
 "nbformat": 4,
 "nbformat_minor": 5
}
