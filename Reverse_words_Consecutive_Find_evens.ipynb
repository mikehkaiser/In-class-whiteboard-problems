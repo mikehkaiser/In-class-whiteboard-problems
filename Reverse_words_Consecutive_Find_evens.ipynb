{
 "cells": [
  {
   "cell_type": "markdown",
   "id": "5ca68475",
   "metadata": {},
   "source": [
    "# reverse words <8 kyu>"
   ]
  },
  {
   "cell_type": "code",
   "execution_count": 7,
   "id": "8cb73255",
   "metadata": {},
   "outputs": [
    {
     "data": {
      "text/plain": [
       "'hobbit. a lived there ground the in hole a In'"
      ]
     },
     "execution_count": 7,
     "metadata": {},
     "output_type": "execute_result"
    }
   ],
   "source": [
    "hobbit = \"In a hole in the ground there lived a hobbit.\"\n",
    "\n",
    "def reversed_words(s):\n",
    "    #strings are immutable, so there's no attribute for strings that allow for reversal\n",
    "    # a few ways to do it\n",
    "    # 1. save the string as a new list and then reverse it\n",
    "    split_string = s.split(' ')\n",
    "    rev_list = split_string[::-1]\n",
    "    return \" \".join(rev_list)\n",
    "    \n",
    "reversed_words(hobbit)"
   ]
  },
  {
   "cell_type": "markdown",
   "id": "6fc4b572",
   "metadata": {},
   "source": []
  },
  {
   "cell_type": "code",
   "execution_count": 17,
   "id": "aac878e0",
   "metadata": {},
   "outputs": [
    {
     "name": "stdout",
     "output_type": "stream",
     "text": [
      "3\n",
      "4\n"
     ]
    }
   ],
   "source": [
    "#Consevutive integers\n",
    "# if given an array of unique numbers,d etermine if 2 integers are next to each other in the array\n",
    "\n",
    "#output is true or false\n",
    "# input is a list\n",
    "# checking based on indeces\n",
    "# a and b as [i] and [i+1] or [i-1]\n",
    "# targets would be 2 variables\n",
    "def consecutive(a_list, var_1, var_2):\n",
    "    #find the indeces for the variables and assign to new variables            \n",
    "    a = a_list.index(var_1)    \n",
    "    b = a_list.index(var_2)\n",
    "    # check if variables are consecutive and return boolean            \n",
    "    if a == b + 1 or a == b - 1:\n",
    "        return True\n",
    "    else:\n",
    "        return False\n",
    "\n",
    "    \n",
    "consecutive([1, 6, 9, -3, -78, 0, 4], -3, 4)\n",
    "\n",
    "list_of_numbers=[1, 6, 9, -3, 4, -78, 0]\n",
    "\n",
    "print(list_of_numbers.index(-3))\n",
    "print(list_of_numbers.index(4))\n"
   ]
  },
  {
   "cell_type": "code",
   "execution_count": 26,
   "id": "0b514be7",
   "metadata": {},
   "outputs": [
    {
     "data": {
      "text/plain": [
       "[6, 4, -78, 0]"
      ]
     },
     "execution_count": 26,
     "metadata": {},
     "output_type": "execute_result"
    }
   ],
   "source": [
    "# given a list\n",
    "# search for even numbers and append to new list\n",
    "# return list\n",
    "# OR #\n",
    "# delete odds from the list and return the list\n",
    "\n",
    "def find_evens(a_list):\n",
    "    for number in a_list:\n",
    "        if number % 2 == 1:\n",
    "            a_list.remove(number)\n",
    "    return a_list\n",
    "        \n",
    "find_evens(list_of_numbers)"
   ]
  },
  {
   "cell_type": "code",
   "execution_count": null,
   "id": "d7747900",
   "metadata": {},
   "outputs": [],
   "source": []
  }
 ],
 "metadata": {
  "kernelspec": {
   "display_name": "Python 3",
   "language": "python",
   "name": "python3"
  },
  "language_info": {
   "codemirror_mode": {
    "name": "ipython",
    "version": 3
   },
   "file_extension": ".py",
   "mimetype": "text/x-python",
   "name": "python",
   "nbconvert_exporter": "python",
   "pygments_lexer": "ipython3",
   "version": "3.8.8"
  }
 },
 "nbformat": 4,
 "nbformat_minor": 5
}
