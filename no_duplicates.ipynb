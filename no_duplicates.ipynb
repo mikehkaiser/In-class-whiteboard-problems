{
 "cells": [
  {
   "cell_type": "markdown",
   "id": "89aee051",
   "metadata": {},
   "source": [
    "## Remove Duplicates from Sorted Array"
   ]
  },
  {
   "cell_type": "markdown",
   "id": "0355925f",
   "metadata": {},
   "source": [
    "26. Remove Duplicates from Sorted Array\n",
    "Easy\n",
    "\n",
    "Given an integer array nums sorted in non-decreasing order, remove the duplicates in-place such that each unique element appears only once. The relative order of the elements should be kept the same.\n",
    "\n",
    "Since it is impossible to change the length of the array in some languages, you must instead have the result be placed in the first part of the array nums. More formally, if there are k elements after removing the duplicates, then the first k elements of nums should hold the final result. It does not matter what you leave beyond the first k elements.\n",
    "\n",
    "Return k after placing the final result in the first k slots of nums.\n",
    "\n",
    "Do not allocate extra space for another array. You must do this by modifying the input array in-place with O(1) extra memory. \n",
    "\n",
    "Example 1:\n",
    "\n",
    "Input: nums = [1,1,2]\n",
    "Output: 2, nums = [1,2,_]\n",
    "Explanation: Your function should return k = 2, with the first two elements of nums being 1 and 2 respectively.\n",
    "It does not matter what you leave beyond the returned k (hence they are underscores).\n",
    "Example 2:\n",
    "\n",
    "Input: nums = [0,0,1,1,1,2,2,3,3,4]\n",
    "Output: 5, nums = [0,1,2,3,4,_,_,_,_,_]\n",
    "Explanation: Your function should return k = 5, with the first five elements of nums being 0, 1, 2, 3, and 4 respectively.\n",
    "It does not matter what you leave beyond the returned k (hence they are underscores).\n",
    " \n",
    "\n",
    "Constraints:\n",
    "\n",
    "0 <= nums.length <= 3 * 104\n",
    "-100 <= nums[i] <= 100\n",
    "nums is sorted in non-decreasing order. "
   ]
  },
  {
   "cell_type": "code",
   "execution_count": 38,
   "id": "7503f7e5",
   "metadata": {},
   "outputs": [
    {
     "data": {
      "text/plain": [
       "-1"
      ]
     },
     "execution_count": 38,
     "metadata": {},
     "output_type": "execute_result"
    }
   ],
   "source": [
    "def noDups(arr):\n",
    "    i = 0\n",
    "    if len(arr) == 0:\n",
    "        return -1\n",
    "    while i < len(arr)-1:\n",
    "        if arr[i+1] == arr[i]:\n",
    "            arr.pop(arr[i])\n",
    "        else:\n",
    "            i += 1\n",
    "    return arr\n",
    "\n",
    "noDups([])"
   ]
  },
  {
   "cell_type": "code",
   "execution_count": 11,
   "id": "db76e0eb",
   "metadata": {},
   "outputs": [
    {
     "data": {
      "text/plain": [
       "[0, 1, 2, 3, 4]"
      ]
     },
     "execution_count": 11,
     "metadata": {},
     "output_type": "execute_result"
    }
   ],
   "source": [
    "def noDups2(arr):\n",
    "    for num in arr:\n",
    "        while arr.count(num) > 1:\n",
    "            arr.remove(num)\n",
    "    return arr\n",
    "\n",
    "noDups2([0,0,1,1,1,2,2,3,3,4])"
   ]
  },
  {
   "cell_type": "code",
   "execution_count": 20,
   "id": "5f346dd7",
   "metadata": {},
   "outputs": [
    {
     "data": {
      "text/plain": [
       "[0, 1, 2, 3, 4]"
      ]
     },
     "execution_count": 20,
     "metadata": {},
     "output_type": "execute_result"
    }
   ],
   "source": [
    "def removeDups(nums):\n",
    "    i = 0\n",
    "    j = len(nums) - 1\n",
    "    while i < j:\n",
    "        if nums[i + 1] == nums[i]:\n",
    "            nums.remove(nums[i])\n",
    "            j -= 1\n",
    "        else:\n",
    "            i += 1\n",
    "    return nums  \n",
    "\n",
    "removeDups([0,0,1,1,1,2,2,3,3,4])"
   ]
  },
  {
   "cell_type": "code",
   "execution_count": null,
   "id": "b3c0eacb",
   "metadata": {},
   "outputs": [],
   "source": []
  }
 ],
 "metadata": {
  "kernelspec": {
   "display_name": "Python 3",
   "language": "python",
   "name": "python3"
  },
  "language_info": {
   "codemirror_mode": {
    "name": "ipython",
    "version": 3
   },
   "file_extension": ".py",
   "mimetype": "text/x-python",
   "name": "python",
   "nbconvert_exporter": "python",
   "pygments_lexer": "ipython3",
   "version": "3.8.8"
  }
 },
 "nbformat": 4,
 "nbformat_minor": 5
}
