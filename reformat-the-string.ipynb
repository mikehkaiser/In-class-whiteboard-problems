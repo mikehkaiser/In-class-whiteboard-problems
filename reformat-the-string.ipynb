{
 "cells": [
  {
   "cell_type": "markdown",
   "id": "24108daa",
   "metadata": {},
   "source": [
    "## Reformat the string"
   ]
  },
  {
   "cell_type": "code",
   "execution_count": null,
   "id": "d84beec8",
   "metadata": {},
   "outputs": [],
   "source": [
    "Reformat the String\n",
    "Given alphanumeric string s. \n",
    "(Alphanumeric string is a string consisting of lowercase English letters and digits).\n",
    "You have to find a permutation of the string where \n",
    "no letter is followed by another letter and no digit is followed by another digit. \n",
    "That is, no two adjacent characters have the same type.\n",
    "Return the reformatted string or return an empty string if it is impossible to reformat the string.\n",
    "Example 1:\n",
    "Input: s = \"a0b1c2\"\n",
    "Output: \"0a1b2c\"\n",
    "Explanation: No two adjacent characters have the same type in \"0a1b2c\". \n",
    "    \"a0b1c2\", \"0a1b2c\", \"0c2a1b\" are also valid permutations.\n",
    "Example 2:\n",
    "Input: s = \"leetcode\"\n",
    "Output: \"\"\n",
    "Explanation: \"leetcode\" has only characters so we cannot separate them by digits.\n",
    "Example 3:\n",
    "Input: s = \"1229857369\"\n",
    "Output: \"\"\n",
    "Explanation: \"1229857369\" has only digits so we cannot separate them by characters.\n",
    "Example 4:\n",
    "Input: s = \"covid2019\"\n",
    "Output: \"c2o0v1i9d\"\n",
    "Example 5:\n",
    "Input: s = \"ab123\"\n",
    "Output: \"1a2b3\""
   ]
  },
  {
   "cell_type": "code",
   "execution_count": 32,
   "id": "d8ac92e1",
   "metadata": {},
   "outputs": [
    {
     "data": {
      "text/plain": [
       "'a0b1c2'"
      ]
     },
     "execution_count": 32,
     "metadata": {},
     "output_type": "execute_result"
    }
   ],
   "source": [
    "#identify data type of a character\n",
    "# make sure next character is different datatype\n",
    "# save two empty lists and when looping, if is digit or is alpha, append to the new lists\n",
    "# reconcatenate \n",
    "\n",
    "def scramble(a_string):\n",
    "    digits = []\n",
    "    alphas = []\n",
    "    scrambled = \"\"\n",
    "    for char in s:\n",
    "        if char.isalpha():\n",
    "            alphas.append(char)\n",
    "        if char.isnumeric():\n",
    "            digits.append(char)\n",
    "            \n",
    "    if len(alphas) == 0 or len(digits) == 0:\n",
    "        return scrambled\n",
    "    if len(alphas) > 1+len(digits) or len(digits)> 1+len(alphas):\n",
    "        return scrambled\n",
    "\n",
    "    if len(alphas) > len(digits):\n",
    "        for i in range(len(digits)):\n",
    "            scrambled += alphas[i] + digits[i]\n",
    "        scrambled += alphas[-1]\n",
    "    elif len(digits) > len(alphas):\n",
    "        for i in range(len(alphas)):\n",
    "            scrambled += digits[i] + alphas[i]\n",
    "        scrambled += digits[-1]\n",
    "    elif (len(alphas) == len(digits)):\n",
    "        for i in range(len(alphas)):\n",
    "            scrambled += alphas[i] + digits[i]\n",
    "    return scrambled\n",
    "\n",
    "s = \"a0b1c2\"\n",
    "scramble(s)"
   ]
  },
  {
   "cell_type": "code",
   "execution_count": null,
   "id": "24153da5",
   "metadata": {},
   "outputs": [],
   "source": []
  }
 ],
 "metadata": {
  "kernelspec": {
   "display_name": "Python 3",
   "language": "python",
   "name": "python3"
  },
  "language_info": {
   "codemirror_mode": {
    "name": "ipython",
    "version": 3
   },
   "file_extension": ".py",
   "mimetype": "text/x-python",
   "name": "python",
   "nbconvert_exporter": "python",
   "pygments_lexer": "ipython3",
   "version": "3.8.8"
  }
 },
 "nbformat": 4,
 "nbformat_minor": 5
}
