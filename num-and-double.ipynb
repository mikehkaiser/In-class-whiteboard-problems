{
 "cells": [
  {
   "cell_type": "markdown",
   "id": "f46882f6",
   "metadata": {},
   "source": [
    "# A Number and its double"
   ]
  },
  {
   "cell_type": "code",
   "execution_count": 8,
   "id": "af3b314d",
   "metadata": {},
   "outputs": [],
   "source": [
    "# Check if Number and its double exists\n",
    "# Given an array arr of integers, check if there exists two integers N and M \n",
    "# such that N is the double of M ( i.e. N = 2 * M).\n",
    "# More formally check if there exists two indices i and j such that :\n",
    "# i != j\n",
    "# 0 <= i, j < arr.length\n",
    "# arr[i] == 2 * arr[j]\n",
    "\n",
    "# Example 1:\n",
    "# Input: arr = [10,2,5,3]\n",
    "# Output: true\n",
    "# Explanation: N = 10 is the double of M = 5,that is, 10 = 2 * 5.\n",
    "\n",
    "# Example 2:\n",
    "# Input: arr = [7,1,14,11]\n",
    "# Output: true\n",
    "# Explanation: N = 14 is the double of M = 7,that is, 14 = 2 * 7.\n",
    "\n",
    "# Example 3:\n",
    "# Input: arr = [3,1,7,11]\n",
    "# Output: false\n",
    "# Explanation: In this case does not exist N and M, such that N = 2 * M. "
   ]
  },
  {
   "cell_type": "markdown",
   "id": "1d0abd33",
   "metadata": {},
   "source": [
    "# Improving time-complexity"
   ]
  },
  {
   "cell_type": "code",
   "execution_count": 7,
   "id": "adef3727",
   "metadata": {},
   "outputs": [
    {
     "data": {
      "text/plain": [
       "True"
      ]
     },
     "execution_count": 7,
     "metadata": {},
     "output_type": "execute_result"
    }
   ],
   "source": [
    "#input is an array of integers\n",
    "#look at all indeces for a number and the number*2, return true\n",
    "#two-pointers?\n",
    "numbers = [3,1,7,11]\n",
    "nums_2 = [10,2,5,3]\n",
    "nums_3 = [7,1,14,11]\n",
    "\n",
    "def numAndDouble(array):\n",
    "    checked = set()\n",
    "    for num in array:\n",
    "        if num*2 in checked or (num/2) in checked:\n",
    "            return True\n",
    "        else:\n",
    "            checked.add(num)\n",
    "    return False\n",
    "\n",
    "numAndDouble(nums_2)"
   ]
  },
  {
   "cell_type": "markdown",
   "id": "7ca6883d",
   "metadata": {},
   "source": [
    "# Quadratic Solution"
   ]
  },
  {
   "cell_type": "code",
   "execution_count": 5,
   "id": "f7109361",
   "metadata": {},
   "outputs": [
    {
     "data": {
      "text/plain": [
       "False"
      ]
     },
     "execution_count": 5,
     "metadata": {},
     "output_type": "execute_result"
    }
   ],
   "source": [
    "def doubleCheck(arr):\n",
    "    for num in arr:\n",
    "        if num*2 in arr:\n",
    "            return True\n",
    "    return False\n",
    "\n",
    "doubleCheck(numbers)"
   ]
  },
  {
   "cell_type": "code",
   "execution_count": null,
   "id": "caec825b",
   "metadata": {},
   "outputs": [],
   "source": []
  }
 ],
 "metadata": {
  "kernelspec": {
   "display_name": "Python 3",
   "language": "python",
   "name": "python3"
  },
  "language_info": {
   "codemirror_mode": {
    "name": "ipython",
    "version": 3
   },
   "file_extension": ".py",
   "mimetype": "text/x-python",
   "name": "python",
   "nbconvert_exporter": "python",
   "pygments_lexer": "ipython3",
   "version": "3.8.8"
  }
 },
 "nbformat": 4,
 "nbformat_minor": 5
}
