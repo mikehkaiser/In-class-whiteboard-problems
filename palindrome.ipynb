{
 "cells": [
  {
   "cell_type": "markdown",
   "id": "0da9cd16",
   "metadata": {},
   "source": [
    "# Palindromes"
   ]
  },
  {
   "cell_type": "code",
   "execution_count": null,
   "id": "12b5f250",
   "metadata": {},
   "outputs": [],
   "source": [
    "Count Palindromes\n",
    "GIven a list of strings, count the number of palindromes that occur inside of the list (a palindrome is a word that is spelled the same backwards and forward).\n",
    "\n",
    "Example input: [‘dog’, ‘racecar’, ‘wildebeest’]\n",
    "Output: 1\n",
    "Explanation: ‘racecar’ is the only palindrome in the list"
   ]
  },
  {
   "cell_type": "code",
   "execution_count": 4,
   "id": "4c45a6cc",
   "metadata": {},
   "outputs": [
    {
     "data": {
      "text/plain": [
       "1"
      ]
     },
     "execution_count": 4,
     "metadata": {},
     "output_type": "execute_result"
    }
   ],
   "source": [
    "# input: list of strings\n",
    "# loop through list\n",
    "# reverse each index\n",
    "# compare the index to its inverse, if equal, add to a count\n",
    "# return count\n",
    "\n",
    "def palindrome(arr):\n",
    "    count = 0\n",
    "    for word in arr:\n",
    "        if word == word[::-1]:\n",
    "            count += 1\n",
    "    return count\n",
    "\n",
    "palindrome(['dog', 'racecar', 'wildebeest'])"
   ]
  },
  {
   "cell_type": "code",
   "execution_count": null,
   "id": "f4e2c4f5",
   "metadata": {},
   "outputs": [],
   "source": []
  }
 ],
 "metadata": {
  "kernelspec": {
   "display_name": "Python 3",
   "language": "python",
   "name": "python3"
  },
  "language_info": {
   "codemirror_mode": {
    "name": "ipython",
    "version": 3
   },
   "file_extension": ".py",
   "mimetype": "text/x-python",
   "name": "python",
   "nbconvert_exporter": "python",
   "pygments_lexer": "ipython3",
   "version": "3.8.8"
  }
 },
 "nbformat": 4,
 "nbformat_minor": 5
}
