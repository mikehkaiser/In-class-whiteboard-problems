{
 "cells": [
  {
   "cell_type": "markdown",
   "id": "69c111f4",
   "metadata": {},
   "source": [
    "# Consecutive 1's\n",
    "\n",
    "Max consecutive Nums:\n",
    "Given a binary array nums, return the maximum number of consecutive 1's in the array.\n",
    " \n",
    "Example 1:\n",
    "Input: nums = [1,1,0,1,1,1]\n",
    "Output: 3\n",
    "Explanation: The first two digits or the last three digits are consecutive 1s. The maximum number of \n",
    "    consecutive 1s is 3.\n",
    "Example 2:\n",
    "Input: nums = [1,0,1,1,0,1]\n",
    "Output: 2\n",
    " \n",
    "Constraints:\n",
    "1 <= nums.length <= 10^5\n",
    "nums[i] is either 0 or 1."
   ]
  },
  {
   "cell_type": "code",
   "execution_count": 5,
   "id": "aa88af39",
   "metadata": {},
   "outputs": [
    {
     "name": "stdout",
     "output_type": "stream",
     "text": [
      "0\n"
     ]
    }
   ],
   "source": [
    "#keep track of number of 1s, if 0 pops up, reset x\n",
    "#if count of next number is greater than count of first num, replace\n",
    "\n",
    "def consecutive(arr):\n",
    "    count = 0\n",
    "    x = 0\n",
    "    for num in arr:\n",
    "        if num == 1:\n",
    "            x += 1\n",
    "        if num == 0:\n",
    "            x = 0\n",
    "        if x > count:\n",
    "            count = x\n",
    "    return count\n",
    "        \n",
    "print(consecutive([1,0,1,1,1,1,1,0,1]))"
   ]
  },
  {
   "cell_type": "code",
   "execution_count": null,
   "id": "cd479d1c",
   "metadata": {},
   "outputs": [],
   "source": []
  }
 ],
 "metadata": {
  "kernelspec": {
   "display_name": "Python 3",
   "language": "python",
   "name": "python3"
  },
  "language_info": {
   "codemirror_mode": {
    "name": "ipython",
    "version": 3
   },
   "file_extension": ".py",
   "mimetype": "text/x-python",
   "name": "python",
   "nbconvert_exporter": "python",
   "pygments_lexer": "ipython3",
   "version": "3.8.8"
  }
 },
 "nbformat": 4,
 "nbformat_minor": 5
}
