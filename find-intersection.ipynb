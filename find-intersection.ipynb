{
 "cells": [
  {
   "cell_type": "markdown",
   "id": "bfe943d6",
   "metadata": {},
   "source": [
    "# Compute Intersection"
   ]
  },
  {
   "cell_type": "code",
   "execution_count": null,
   "id": "c0fe1264",
   "metadata": {},
   "outputs": [],
   "source": [
    "Compute Intersection\n",
    "Given two arrays, write a function to compute their intersection.\n",
    "Example 1:\n",
    "Input: nums1 = [1,2,2,1], nums2 = [2,2]\n",
    "Output: [2]\n",
    "Example 2:\n",
    "Input: nums1 = [4,9,5] \n",
    "    nums2 = [9,4,9,8,4]\n",
    "Output: [9,4]\n",
    "Note:\n",
    "Each element in the result must be unique.\n",
    "The result can be in any order."
   ]
  },
  {
   "cell_type": "code",
   "execution_count": 9,
   "id": "997d18e7",
   "metadata": {},
   "outputs": [
    {
     "data": {
      "text/plain": [
       "[2]"
      ]
     },
     "execution_count": 9,
     "metadata": {},
     "output_type": "execute_result"
    }
   ],
   "source": [
    "nums1 = [1,2,2,1] \n",
    "nums2 = [2,2]\n",
    "nums3 = [4,9,5] \n",
    "nums4 = [9,4,9,8,4]\n",
    "\n",
    "def intersect(list1, list2):\n",
    "    return list(set(list1).intersection(set(list2)))\n",
    "\n",
    "def intersect2(list1, list2):\n",
    "    combined = set(list1 + list2)\n",
    "    return [num for num in combined if num in list1 and num in list2]\n",
    "\n",
    "intersect(nums1, nums2)"
   ]
  },
  {
   "cell_type": "code",
   "execution_count": null,
   "id": "b308eb63",
   "metadata": {},
   "outputs": [],
   "source": []
  },
  {
   "cell_type": "code",
   "execution_count": null,
   "id": "8ed6fdb9",
   "metadata": {},
   "outputs": [],
   "source": []
  }
 ],
 "metadata": {
  "kernelspec": {
   "display_name": "Python 3",
   "language": "python",
   "name": "python3"
  },
  "language_info": {
   "codemirror_mode": {
    "name": "ipython",
    "version": 3
   },
   "file_extension": ".py",
   "mimetype": "text/x-python",
   "name": "python",
   "nbconvert_exporter": "python",
   "pygments_lexer": "ipython3",
   "version": "3.8.8"
  }
 },
 "nbformat": 4,
 "nbformat_minor": 5
}
