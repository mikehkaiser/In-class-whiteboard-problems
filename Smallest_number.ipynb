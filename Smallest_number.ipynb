{
 "cells": [
  {
   "cell_type": "code",
   "execution_count": null,
   "id": "29974de0",
   "metadata": {},
   "outputs": [],
   "source": [
    "Find Smallest Number  - (Without min)\n",
    "Create a function that given a list of numbers (non-sorted) find the lowest number in the list and return it.\n",
    "Example Input: [50,30,4,2,11,0]\n",
    "Example Output: 0\n",
    "Example Input 2: [40,3,4,2]\n",
    "Example Output 2: 2"
   ]
  },
  {
   "cell_type": "code",
   "execution_count": 31,
   "id": "2d193abb",
   "metadata": {},
   "outputs": [
    {
     "data": {
      "text/plain": [
       "0"
      ]
     },
     "execution_count": 31,
     "metadata": {},
     "output_type": "execute_result"
    }
   ],
   "source": [
    "def smallest_num(a_list):\n",
    "    #make a set\n",
    "    x = a_list[0]\n",
    "    for num in a_list:\n",
    "        if num < x:\n",
    "            x = num\n",
    "    return x\n",
    "    \n",
    "\n",
    "smallest_num([50,30,4,2,11,0])\n",
    "            "
   ]
  },
  {
   "cell_type": "code",
   "execution_count": null,
   "id": "1b0c3119",
   "metadata": {},
   "outputs": [],
   "source": []
  }
 ],
 "metadata": {
  "kernelspec": {
   "display_name": "Python 3",
   "language": "python",
   "name": "python3"
  },
  "language_info": {
   "codemirror_mode": {
    "name": "ipython",
    "version": 3
   },
   "file_extension": ".py",
   "mimetype": "text/x-python",
   "name": "python",
   "nbconvert_exporter": "python",
   "pygments_lexer": "ipython3",
   "version": "3.8.8"
  }
 },
 "nbformat": 4,
 "nbformat_minor": 5
}
