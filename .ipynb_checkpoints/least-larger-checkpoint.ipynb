{
 "cells": [
  {
   "cell_type": "markdown",
   "id": "248f37f1",
   "metadata": {},
   "source": [
    "# Least Larger"
   ]
  },
  {
   "cell_type": "code",
   "execution_count": null,
   "id": "8f71a89b",
   "metadata": {},
   "outputs": [],
   "source": [
    "Least Larger\n",
    "Given an array of numbers and an index, return the index of the least number\n",
    "larger than the element at the given index, or -1 if there is no such index.\n",
    "Example:\n",
    "Input: ([4, 1, 3, 5, 6], 0 ) \n",
    "Output: 3\n",
    "Input: ([4, 1, 3, 5, 6], 4)\n",
    "Output: -1\n",
    "    \n",
    "loop through list\n",
    "if the value is greater than list at given index, hold it\n",
    "keep looping, if another number is greater than given index AND less than held item, replace held item"
   ]
  },
  {
   "cell_type": "code",
   "execution_count": 26,
   "id": "9cd770b9",
   "metadata": {},
   "outputs": [
    {
     "data": {
      "text/plain": [
       "2"
      ]
     },
     "execution_count": 26,
     "metadata": {},
     "output_type": "execute_result"
    }
   ],
   "source": [
    "def leastLarger(arr, ind):\n",
    "    larger = []\n",
    "    for x in arr:\n",
    "        if x > arr[ind]:\n",
    "            larger.append(x)\n",
    "        elif arr[ind] == max(arr):\n",
    "            return -1\n",
    "    return arr.index(min(larger))\n",
    "\n",
    "leastLarger([4, 1, 3, 5, 6], 1)"
   ]
  },
  {
   "cell_type": "code",
   "execution_count": 24,
   "id": "d65f0e32",
   "metadata": {},
   "outputs": [
    {
     "name": "stdout",
     "output_type": "stream",
     "text": [
      "5\n"
     ]
    }
   ],
   "source": [
    "# how to update the variable?\n",
    "\n",
    "def least2(arr, ind):\n",
    "    target = arr[ind]\n",
    "    closest = None\n",
    "    for x in arr:\n",
    "        if target == max(arr):\n",
    "            return -1\n",
    "        elif x > target:\n",
    "            closest = x\n",
    "            if x < closest:\n",
    "                closest = x\n",
    "            \n",
    "    print(closest)\n",
    "\n",
    "least2([4, 1, 3, 6, 5], 0)"
   ]
  },
  {
   "cell_type": "code",
   "execution_count": null,
   "id": "a9b798d5",
   "metadata": {},
   "outputs": [],
   "source": []
  }
 ],
 "metadata": {
  "kernelspec": {
   "display_name": "Python 3",
   "language": "python",
   "name": "python3"
  },
  "language_info": {
   "codemirror_mode": {
    "name": "ipython",
    "version": 3
   },
   "file_extension": ".py",
   "mimetype": "text/x-python",
   "name": "python",
   "nbconvert_exporter": "python",
   "pygments_lexer": "ipython3",
   "version": "3.8.8"
  }
 },
 "nbformat": 4,
 "nbformat_minor": 5
}
