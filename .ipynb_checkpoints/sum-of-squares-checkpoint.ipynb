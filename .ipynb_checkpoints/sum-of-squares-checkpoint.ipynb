{
 "cells": [
  {
   "cell_type": "markdown",
   "id": "2503e5c4",
   "metadata": {},
   "source": [
    "# Sum of Squares"
   ]
  },
  {
   "cell_type": "code",
   "execution_count": 9,
   "id": "d83347cf",
   "metadata": {},
   "outputs": [
    {
     "data": {
      "text/plain": [
       "18"
      ]
     },
     "execution_count": 9,
     "metadata": {},
     "output_type": "execute_result"
    }
   ],
   "source": [
    "# Square(n) sum\n",
    "# Create a function that given a list of integers squares each number passed into it and then sums the results together.\n",
    "# Example Input: [1, 2, 2]\n",
    "# Example Output: 9 \n",
    "# Explanation: 1^2 + 2^2 + 2^2 = 9\n",
    "\n",
    "\n",
    "# Example Input: [3, 4, 5]\n",
    "# Example Output: 50\n",
    "\n",
    "def sumOfSquares(a_list):\n",
    "    new_list = []\n",
    "    for x in a_list:\n",
    "        new_list.append(x**2)\n",
    "    return sum(new_list)\n",
    "\n",
    "\n",
    "def sumSquares(a_list):\n",
    "    return sum(x**2 for x in a_list)\n",
    "\n",
    "def sumSquares2(a_list):\n",
    "    sums = 0\n",
    "    for num in a_list:\n",
    "        sums += num**2\n",
    "    return sums\n",
    "\n",
    "sumSquares2([1, 2, 2, 3])"
   ]
  },
  {
   "cell_type": "code",
   "execution_count": null,
   "id": "deced8e4",
   "metadata": {},
   "outputs": [],
   "source": []
  }
 ],
 "metadata": {
  "kernelspec": {
   "display_name": "Python 3",
   "language": "python",
   "name": "python3"
  },
  "language_info": {
   "codemirror_mode": {
    "name": "ipython",
    "version": 3
   },
   "file_extension": ".py",
   "mimetype": "text/x-python",
   "name": "python",
   "nbconvert_exporter": "python",
   "pygments_lexer": "ipython3",
   "version": "3.8.8"
  }
 },
 "nbformat": 4,
 "nbformat_minor": 5
}
