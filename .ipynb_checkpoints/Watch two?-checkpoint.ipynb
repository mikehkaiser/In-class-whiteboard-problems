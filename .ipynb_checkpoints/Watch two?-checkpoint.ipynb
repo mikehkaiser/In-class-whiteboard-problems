{
 "cells": [
  {
   "cell_type": "markdown",
   "id": "e4a44c2d",
   "metadata": {},
   "source": [
    "# Two movies?\n",
    "\n",
    "### Write a function that takes an integer flight_length (in minutes) \n",
    "### and a list of integers movie_lengths (in minutes) and returns a boolean\n",
    "### indicating whether there are two numbers in movie_lengths whose sum equals flight_length."
   ]
  },
  {
   "cell_type": "code",
   "execution_count": 18,
   "id": "f1368005",
   "metadata": {},
   "outputs": [
    {
     "data": {
      "text/plain": [
       "True"
      ]
     },
     "execution_count": 18,
     "metadata": {},
     "output_type": "execute_result"
    }
   ],
   "source": [
    "movie_length=[80, 110, 40, 120]\n",
    "flight_length=160\n",
    "\n",
    "def twoMovies(arr, flight):\n",
    "    a_set = set()\n",
    "    for movie in arr:\n",
    "        target = flight - movie\n",
    "        if target in a_set:\n",
    "            return True\n",
    "        else:\n",
    "            a_set.add(movie)\n",
    "    return False\n",
    "\n",
    "twoMovies(movie_length, flight_length)"
   ]
  },
  {
   "cell_type": "code",
   "execution_count": null,
   "id": "32e4c0e1",
   "metadata": {},
   "outputs": [],
   "source": []
  }
 ],
 "metadata": {
  "kernelspec": {
   "display_name": "Python 3",
   "language": "python",
   "name": "python3"
  },
  "language_info": {
   "codemirror_mode": {
    "name": "ipython",
    "version": 3
   },
   "file_extension": ".py",
   "mimetype": "text/x-python",
   "name": "python",
   "nbconvert_exporter": "python",
   "pygments_lexer": "ipython3",
   "version": "3.8.8"
  }
 },
 "nbformat": 4,
 "nbformat_minor": 5
}
