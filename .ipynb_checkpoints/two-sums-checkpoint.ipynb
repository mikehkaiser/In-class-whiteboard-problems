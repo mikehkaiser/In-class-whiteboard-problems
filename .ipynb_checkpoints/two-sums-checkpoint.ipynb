{
 "cells": [
  {
   "cell_type": "markdown",
   "id": "ffe48b38",
   "metadata": {},
   "source": [
    "# Two Sum"
   ]
  },
  {
   "cell_type": "markdown",
   "id": "40f0cd6b",
   "metadata": {},
   "source": [
    "Create a function that given a list of numbers (that are sorted) and a target number as a sum, \n",
    "return the indexes of the two numbers that when added equal the target number.\n",
    "Example Input: [2,7,11,15], target = 9\n",
    "Example Output: [0,1]\n",
    "\n",
    "Example Input: [4,7,8,9, 10, 15, 19, 20], target = 25\n",
    "Example Output: [4, 5]"
   ]
  },
  {
   "cell_type": "code",
   "execution_count": 26,
   "id": "56471eaf",
   "metadata": {},
   "outputs": [
    {
     "data": {
      "text/plain": [
       "[0, 1]"
      ]
     },
     "execution_count": 26,
     "metadata": {},
     "output_type": "execute_result"
    }
   ],
   "source": [
    "#input is a sorted list and a target\n",
    "#output is a list of indexes\n",
    "#set up two placeholders, 0 and 1, as the indexes\n",
    "# loop through list\n",
    "# two pointers would be awesome here\n",
    "\n",
    "def twoSum(arr, target):\n",
    "    for x in arr:\n",
    "        y = target - x\n",
    "        if y in arr:\n",
    "            return [arr.index(x), arr.index(y)]\n",
    "\n",
    "twoSum([2,7,11,15], 9)\n",
    "        "
   ]
  },
  {
   "cell_type": "code",
   "execution_count": null,
   "id": "c98e3cd7",
   "metadata": {},
   "outputs": [],
   "source": [
    "# with a dictionary - from Nate\n",
    "def twoSums2(arr, target):\n",
    "    a_dict = {} # sets up a dictionary that will be added to later\n",
    "    for i in range(len(arr)): # going to loop through indeces of the array, from 0 to the length of the array\n",
    "        match = target - arr[i] # establishes the second number being looked for\n",
    "        if match in a_dict: # is the match in the dictionary?\n",
    "            return[i, a_dict[match]] # return the indeces you are looking for\n",
    "        else: #if match is not in a_dict yet\n",
    "            a_dict[arr[i]] = i # add the key value pair to a_dict (value or arr at index i): the index # for the key\n",
    "    return -1 # if an answer isn't present, return -1"
   ]
  }
 ],
 "metadata": {
  "kernelspec": {
   "display_name": "Python 3",
   "language": "python",
   "name": "python3"
  },
  "language_info": {
   "codemirror_mode": {
    "name": "ipython",
    "version": 3
   },
   "file_extension": ".py",
   "mimetype": "text/x-python",
   "name": "python",
   "nbconvert_exporter": "python",
   "pygments_lexer": "ipython3",
   "version": "3.8.8"
  }
 },
 "nbformat": 4,
 "nbformat_minor": 5
}
