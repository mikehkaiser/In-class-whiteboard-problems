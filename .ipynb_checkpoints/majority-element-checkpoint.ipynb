{
 "cells": [
  {
   "cell_type": "markdown",
   "id": "254d34b1",
   "metadata": {},
   "source": [
    "# Majority Element"
   ]
  },
  {
   "cell_type": "code",
   "execution_count": null,
   "id": "52ea86b6",
   "metadata": {},
   "outputs": [],
   "source": [
    "Given an array nums of size n, return the majority element.\n",
    "\n",
    "The majority element is the element that appears more than ⌊n / 2⌋ times. \n",
    "You may assume that the majority element always exists in the array.\n",
    "\n",
    "Example 1:\n",
    "Input: nums = [3,2,3]\n",
    "Output: 3\n",
    "Example 2:\n",
    "\n",
    "Input: nums = [2,1,1,1]\n",
    "Output: 2"
   ]
  },
  {
   "cell_type": "code",
   "execution_count": 50,
   "id": "9aa1c8f5",
   "metadata": {},
   "outputs": [
    {
     "data": {
      "text/plain": [
       "2"
      ]
     },
     "execution_count": 50,
     "metadata": {},
     "output_type": "execute_result"
    }
   ],
   "source": [
    "# make a variable (majority) that will be returned later\n",
    "# for num in arr, if the count of the number is more than n/2, that is the majority element\n",
    "\n",
    "def majority(arr):\n",
    "    major = -1\n",
    "    for num in arr:\n",
    "        if (arr.count(num) > len(arr)/2):\n",
    "             return num\n",
    "    return major\n",
    "\n",
    "nums = [2,2,2,1,1]\n",
    "majority(nums)"
   ]
  },
  {
   "cell_type": "code",
   "execution_count": 1,
   "id": "e79fe8d1",
   "metadata": {},
   "outputs": [
    {
     "data": {
      "text/plain": [
       "2"
      ]
     },
     "execution_count": 1,
     "metadata": {},
     "output_type": "execute_result"
    }
   ],
   "source": [
    "def majorityNum(arr):\n",
    "    a_dict = {}\n",
    "    for num in arr:\n",
    "        if num not in a_dict:\n",
    "            a_dict[num] = 1\n",
    "        else:\n",
    "            a_dict[num] += 1\n",
    "        if a_dict[num] > len(nums)/2:\n",
    "            return num\n",
    "    \n",
    "nums = [2,2,2,1,1]\n",
    "majorityNum(nums)"
   ]
  },
  {
   "cell_type": "code",
   "execution_count": null,
   "id": "28c61098",
   "metadata": {},
   "outputs": [],
   "source": []
  }
 ],
 "metadata": {
  "kernelspec": {
   "display_name": "Python 3",
   "language": "python",
   "name": "python3"
  },
  "language_info": {
   "codemirror_mode": {
    "name": "ipython",
    "version": 3
   },
   "file_extension": ".py",
   "mimetype": "text/x-python",
   "name": "python",
   "nbconvert_exporter": "python",
   "pygments_lexer": "ipython3",
   "version": "3.8.8"
  }
 },
 "nbformat": 4,
 "nbformat_minor": 5
}
