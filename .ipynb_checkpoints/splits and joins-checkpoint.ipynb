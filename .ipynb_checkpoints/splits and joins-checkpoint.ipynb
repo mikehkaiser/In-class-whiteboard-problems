{
 "cells": [
  {
   "cell_type": "code",
   "execution_count": 1,
   "id": "4383fe84",
   "metadata": {},
   "outputs": [],
   "source": [
    "a_str = '1112111'"
   ]
  },
  {
   "cell_type": "code",
   "execution_count": 19,
   "id": "c9bf7876",
   "metadata": {},
   "outputs": [
    {
     "data": {
      "text/plain": [
       "'2'"
      ]
     },
     "execution_count": 19,
     "metadata": {},
     "output_type": "execute_result"
    }
   ],
   "source": [
    "new_str = ''.join((a_str.split('1')))\n",
    "new_str"
   ]
  },
  {
   "cell_type": "code",
   "execution_count": 20,
   "id": "eedf49c4",
   "metadata": {},
   "outputs": [
    {
     "data": {
      "text/plain": [
       "'WUBWUBWUB2WUBWUBWUB'"
      ]
     },
     "execution_count": 20,
     "metadata": {},
     "output_type": "execute_result"
    }
   ],
   "source": [
    "for i in range(len(a_str)):\n",
    "    new = a_str.replace('1', 'WUB')\n",
    "    \n",
    "new"
   ]
  },
  {
   "cell_type": "code",
   "execution_count": null,
   "id": "ad169b62",
   "metadata": {},
   "outputs": [],
   "source": []
  }
 ],
 "metadata": {
  "kernelspec": {
   "display_name": "Python 3",
   "language": "python",
   "name": "python3"
  },
  "language_info": {
   "codemirror_mode": {
    "name": "ipython",
    "version": 3
   },
   "file_extension": ".py",
   "mimetype": "text/x-python",
   "name": "python",
   "nbconvert_exporter": "python",
   "pygments_lexer": "ipython3",
   "version": "3.8.8"
  }
 },
 "nbformat": 4,
 "nbformat_minor": 5
}
