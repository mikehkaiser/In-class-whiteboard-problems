{
 "cells": [
  {
   "cell_type": "markdown",
   "id": "5bf3164d",
   "metadata": {},
   "source": [
    "# Smallest Sum"
   ]
  },
  {
   "cell_type": "code",
   "execution_count": null,
   "id": "6ea13f88",
   "metadata": {},
   "outputs": [],
   "source": [
    "Given an array of non-zero integers - return the smallest possible sum of 2\n",
    "members of the array.\n",
    "example1:\n",
    "Input [1,3,4,4,5,2]\n",
    "Output = 3\n",
    "explanation -- 1 + 2 is the smallest possiblt sum of the given values in the list"
   ]
  },
  {
   "cell_type": "code",
   "execution_count": 8,
   "id": "efde11eb",
   "metadata": {
    "scrolled": true
   },
   "outputs": [
    {
     "name": "stdout",
     "output_type": "stream",
     "text": [
      "[1, 2, 3, 4, 4, 5]\n"
     ]
    },
    {
     "data": {
      "text/plain": [
       "3"
      ]
     },
     "execution_count": 8,
     "metadata": {},
     "output_type": "execute_result"
    }
   ],
   "source": [
    "def smallestSum(arr):\n",
    "    sort_arr = sorted(arr)\n",
    "    print(sorted(arr))\n",
    "    return sort_arr[0] + sort_arr[1]\n",
    "\n",
    "nums = [4,3,1,4,5,2]\n",
    "smallestSum(nums)"
   ]
  },
  {
   "cell_type": "code",
   "execution_count": 6,
   "id": "247ab108",
   "metadata": {},
   "outputs": [
    {
     "name": "stdout",
     "output_type": "stream",
     "text": [
      "2\n"
     ]
    }
   ],
   "source": [
    "print(nums[len(nums)-1])"
   ]
  },
  {
   "cell_type": "code",
   "execution_count": 1,
   "id": "7c15ad10",
   "metadata": {},
   "outputs": [
    {
     "ename": "NameError",
     "evalue": "name 'nums' is not defined",
     "output_type": "error",
     "traceback": [
      "\u001b[0;31m---------------------------------------------------------------------------\u001b[0m",
      "\u001b[0;31mNameError\u001b[0m                                 Traceback (most recent call last)",
      "\u001b[0;32m<ipython-input-1-1d0b24c90a8d>\u001b[0m in \u001b[0;36m<module>\u001b[0;34m\u001b[0m\n\u001b[1;32m     16\u001b[0m         \u001b[0;32mreturn\u001b[0m \u001b[0mresult\u001b[0m\u001b[0;34m\u001b[0m\u001b[0;34m\u001b[0m\u001b[0m\n\u001b[1;32m     17\u001b[0m \u001b[0;34m\u001b[0m\u001b[0m\n\u001b[0;32m---> 18\u001b[0;31m \u001b[0msmallSum\u001b[0m\u001b[0;34m(\u001b[0m\u001b[0mnums\u001b[0m\u001b[0;34m)\u001b[0m\u001b[0;34m\u001b[0m\u001b[0;34m\u001b[0m\u001b[0m\n\u001b[0m",
      "\u001b[0;31mNameError\u001b[0m: name 'nums' is not defined"
     ]
    }
   ],
   "source": [
    "# two pointers - come back to this.\n",
    "\n",
    "def smallSum(arr):\n",
    "    for i in range(len(arr)):\n",
    "        left = i\n",
    "        right = i+1\n",
    "        result = None\n",
    "        while right < len(arr):\n",
    "            if not result:\n",
    "                result = arr[left] + arr[right]\n",
    "            if result < arr[left] + arr[right]:\n",
    "                result = arr[left] + arr[right]\n",
    "                right -=1\n",
    "            else:\n",
    "                break\n",
    "        return result\n",
    "        \n",
    "smallSum(nums)"
   ]
  },
  {
   "cell_type": "code",
   "execution_count": null,
   "id": "73f4d1ee",
   "metadata": {},
   "outputs": [],
   "source": []
  }
 ],
 "metadata": {
  "kernelspec": {
   "display_name": "Python 3",
   "language": "python",
   "name": "python3"
  },
  "language_info": {
   "codemirror_mode": {
    "name": "ipython",
    "version": 3
   },
   "file_extension": ".py",
   "mimetype": "text/x-python",
   "name": "python",
   "nbconvert_exporter": "python",
   "pygments_lexer": "ipython3",
   "version": "3.8.8"
  }
 },
 "nbformat": 4,
 "nbformat_minor": 5
}
