{
 "cells": [
  {
   "cell_type": "markdown",
   "id": "5ca2ee11",
   "metadata": {},
   "source": [
    "# find smaller nums"
   ]
  },
  {
   "cell_type": "code",
   "execution_count": null,
   "id": "627edd9b",
   "metadata": {},
   "outputs": [],
   "source": [
    "Given the array nums, for each nums[i] find out how many numbers in the array are smaller than it. \n",
    "That is, for each nums[i] you have to count the number of valid j's such that and nums[j] < nums[i].\n",
    "Return the answer in an array.\n",
    "Example 1:\n",
    "Input: nums = [8,1,2,2,3]\n",
    "Output: [4,0,1,1,3]\n",
    "Explanation:\n",
    "For nums[0]=8 there exist four smaller numbers than it (1, 2, 2 and 3).\n",
    "For nums[1]=1 does not exist any smaller number than it.\n",
    "For nums[2]=2 there exist one smaller number than it (1).\n",
    "For nums[3]=2 there exist one smaller number than it (1).\n",
    "For nums[4]=3 there exist three smaller numbers than it (1, 2 and 2).\n",
    "Example 2:\n",
    "Input: nums = [6,5,4,8]\n",
    "Output: [2,1,0,3]\n",
    "Example 3:\n",
    "Input: nums = [7,7,7,7]\n",
    "Output: [0,0,0,0]"
   ]
  },
  {
   "cell_type": "code",
   "execution_count": 4,
   "id": "60f79708",
   "metadata": {},
   "outputs": [
    {
     "data": {
      "text/plain": [
       "[4, 0, 1, 1, 3]"
      ]
     },
     "execution_count": 4,
     "metadata": {},
     "output_type": "execute_result"
    }
   ],
   "source": [
    "# input is an array\n",
    "# output is an array\n",
    "# examine each number in input and compare to all the other numbers\n",
    "# keep a count of numbers in second comparison that are less than\n",
    "# add that count to a new array, return that array\n",
    "\n",
    "# sort and compare index values\n",
    "# if sorted, just count how many values come before that index?\n",
    "\n",
    "# look at each i, \n",
    "\n",
    "def findSmaller(arr):\n",
    "    \n",
    "    result = []\n",
    "#     comparison = arr.sort()\n",
    "    for i in range(len(arr)):\n",
    "        count = 0\n",
    "        for j in range(len(arr)):\n",
    "            if arr[i] > arr[j]:\n",
    "                count += 1\n",
    "        result.append(count)\n",
    "    return result\n",
    "            \n",
    "nums = [8,1,2,2,3] \n",
    "findSmaller(nums)"
   ]
  },
  {
   "cell_type": "code",
   "execution_count": 17,
   "id": "4224e66a",
   "metadata": {},
   "outputs": [
    {
     "data": {
      "text/plain": [
       "[0, 1, 1, 3, 4]"
      ]
     },
     "execution_count": 17,
     "metadata": {},
     "output_type": "execute_result"
    }
   ],
   "source": [
    "def findSmaller2(arr):\n",
    "    a_dict = {}\n",
    "    ans = []\n",
    "    for i,x in enumerate(nums):\n",
    "        if x not in a_dict:\n",
    "            a_dict[x] = i\n",
    "    for x in arr:\n",
    "        ans.append(a_dict[x])\n",
    "    return ans  \n",
    "\n",
    "findSmaller2(nums)"
   ]
  },
  {
   "cell_type": "code",
   "execution_count": 11,
   "id": "1c1d0dfe",
   "metadata": {},
   "outputs": [
    {
     "data": {
      "text/plain": [
       "dict_values([0, 1, 3, 4])"
      ]
     },
     "execution_count": 11,
     "metadata": {},
     "output_type": "execute_result"
    }
   ],
   "source": [
    "\n",
    "a_dict = {}\n",
    "for i,x in enumerate(nums):\n",
    "    if x not in a_dict:\n",
    "        a_dict[x] = i\n",
    "        \n",
    "a_dict.values()"
   ]
  },
  {
   "cell_type": "code",
   "execution_count": null,
   "id": "3ad52009",
   "metadata": {},
   "outputs": [],
   "source": []
  }
 ],
 "metadata": {
  "kernelspec": {
   "display_name": "Python 3",
   "language": "python",
   "name": "python3"
  },
  "language_info": {
   "codemirror_mode": {
    "name": "ipython",
    "version": 3
   },
   "file_extension": ".py",
   "mimetype": "text/x-python",
   "name": "python",
   "nbconvert_exporter": "python",
   "pygments_lexer": "ipython3",
   "version": "3.8.8"
  }
 },
 "nbformat": 4,
 "nbformat_minor": 5
}
