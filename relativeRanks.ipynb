{
 "cells": [
  {
   "cell_type": "markdown",
   "id": "fdf57ca0",
   "metadata": {},
   "source": [
    "## Relative Ranks"
   ]
  },
  {
   "cell_type": "code",
   "execution_count": null,
   "id": "3d5afa03",
   "metadata": {},
   "outputs": [],
   "source": [
    "Relative Ranks\n",
    "You are given an integer array score of size n, where score[i] is the score of the ith \n",
    "athlete in a competition. All the scores are guaranteed to be unique.\n",
    "The athletes are placed based on their scores, where the 1st place athlete has the \n",
    "highest score, the 2nd place athlete has the 2nd highest score, and so on. \n",
    "The placement of each athlete determines their rank:\n",
    "The 1st place athlete's rank is \"Gold Medal\".\n",
    "The 2nd place athlete's rank is \"Silver Medal\".\n",
    "The 3rd place athlete's rank is \"Bronze Medal\".\n",
    "For the 4th place to the nth place athlete, their rank is their placement number \n",
    "(i.e., the xth place athlete's rank is \"x\").\n",
    "Return an array answer of size n where answer[i] is the rank of the ith athlete.\n",
    " \n",
    "Example 1:\n",
    "Input: score = [5,4,3,2,1]\n",
    "Output: [\"Gold Medal\",\"Silver Medal\",\"Bronze Medal\",\"4\",\"5\"]\n",
    "Explanation: The placements are [1st, 2nd, 3rd, 4th, 5th].\n",
    "\n",
    "                                                                                  \n",
    "Example 2:\n",
    "Input: score = [10,3,8,9,4]\n",
    "Output: [\"Gold Medal\",\"5\",\"Bronze Medal\",\"Silver Medal\",\"4\"]\n",
    "Explanation: The placements are [1st, 5th, 3rd, 2nd, 4th].\n",
    " \n",
    "Constraints:\n",
    "n == score.length\n",
    "1 <= n <= 104\n",
    "0 <= score[i] <= 106\n",
    "All the values in score are unique.\n",
    " \n",
    " # input: list of unique integers, non-ordered\n",
    " # output, list of strings\n",
    " # make a dictionary with scores and strings as values\n",
    " # for 4+, the string is just arr[i]\n",
    " # need to sort the array brought in and rank based on the sort\n",
    " \n"
   ]
  },
  {
   "cell_type": "code",
   "execution_count": 32,
   "id": "12d68536",
   "metadata": {},
   "outputs": [
    {
     "data": {
      "text/plain": [
       "['Gold Medal', 4, 'Bronze Medal', 'Silver Medal', 3]"
      ]
     },
     "execution_count": 32,
     "metadata": {},
     "output_type": "execute_result"
    }
   ],
   "source": [
    "def relativeRanks(arr):\n",
    "     # empty list to append strings to for output at end\n",
    "    holder = sorted(arr, reverse=True)\n",
    "    result = []\n",
    "     # dictionary of strings for 1-3\n",
    "    for x in arr:\n",
    "        if x == holder[0]:\n",
    "            result.append(\"Gold Medal\")\n",
    "        elif x == holder[1]:\n",
    "            result.append(\"Silver Medal\")\n",
    "        elif x == holder[2]:\n",
    "            result.append(\"Bronze Medal\")\n",
    "        else:\n",
    "            result.append(holder.index(x))\n",
    "    return result\n",
    "    \n",
    "ranks = [10,3,8,9,4]\n",
    "relativeRanks(ranks)\n",
    " \n",
    "#     return result\n",
    "         "
   ]
  },
  {
   "cell_type": "code",
   "execution_count": 48,
   "id": "d2672133",
   "metadata": {},
   "outputs": [
    {
     "data": {
      "text/plain": [
       "['Gold Medal', 4, 'Bronze Medal', 'Silver Medal', 3]"
      ]
     },
     "execution_count": 48,
     "metadata": {},
     "output_type": "execute_result"
    }
   ],
   "source": [
    "def ranks2(arr):\n",
    "    a_dict = {}\n",
    "    result = []\n",
    "    medals = {\n",
    "        0: \"Gold Medal\",\n",
    "        1: \"Silver Medal\",\n",
    "        2: \"Bronze Medal\"\n",
    "    }\n",
    "    ranked = sorted(arr, reverse=True)\n",
    "    for score in arr:\n",
    "        a_dict[score] = ranked.index(score)\n",
    "    for key in a_dict.keys():\n",
    "        if a_dict[key] in medals:\n",
    "            result.append(medals[a_dict[key]])\n",
    "        else:\n",
    "            result.append(a_dict[key])\n",
    "    return result\n",
    "\n",
    "ranks2([10,3,8,9,4])"
   ]
  },
  {
   "cell_type": "code",
   "execution_count": null,
   "id": "82269f85",
   "metadata": {},
   "outputs": [],
   "source": []
  }
 ],
 "metadata": {
  "kernelspec": {
   "display_name": "Python 3",
   "language": "python",
   "name": "python3"
  },
  "language_info": {
   "codemirror_mode": {
    "name": "ipython",
    "version": 3
   },
   "file_extension": ".py",
   "mimetype": "text/x-python",
   "name": "python",
   "nbconvert_exporter": "python",
   "pygments_lexer": "ipython3",
   "version": "3.8.8"
  }
 },
 "nbformat": 4,
 "nbformat_minor": 5
}
