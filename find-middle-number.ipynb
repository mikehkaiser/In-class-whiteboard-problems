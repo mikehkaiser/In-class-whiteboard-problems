{
 "cells": [
  {
   "cell_type": "markdown",
   "id": "f14ff487",
   "metadata": {},
   "source": [
    "# find middle number"
   ]
  },
  {
   "cell_type": "code",
   "execution_count": null,
   "id": "60c21356",
   "metadata": {},
   "outputs": [],
   "source": [
    "Find Middle Number\n",
    "Given a number (n) and an array of numbers (num_list) as input to a function, return True if the number is greater than the middle number of the array. Return False if the number is less than the middle number of the array.\n",
    "Example Input: n = 6, array = [3,5,8,10]\n",
    "Example Output: True\n",
    "Example Input: n = 105, array = [10,30,44,22,100]\n",
    "Example Output: True"
   ]
  },
  {
   "cell_type": "code",
   "execution_count": 19,
   "id": "27e31713",
   "metadata": {},
   "outputs": [
    {
     "name": "stdout",
     "output_type": "stream",
     "text": [
      "2\n",
      "44\n",
      "True\n"
     ]
    }
   ],
   "source": [
    "def findMiddle(arr, n):\n",
    "    #determine middle number of the array\n",
    "    #not the average of the numbers, but find the index of the middle of the array\n",
    "#     if len(arr)%2 == 0:\n",
    "#         comparison = (len(arr)//2)-1\n",
    "#     else:\n",
    "#         comparison = len(arr)//2\n",
    "\n",
    "    comparison = (len(arr)-1)//2\n",
    "    print(comparison)\n",
    "    print(arr[comparison])\n",
    "    return n > arr[comparison]\n",
    "    \n",
    "print(findMiddle([10,30,44,22,100], 105))"
   ]
  },
  {
   "cell_type": "code",
   "execution_count": null,
   "id": "6f052e4b",
   "metadata": {},
   "outputs": [],
   "source": []
  }
 ],
 "metadata": {
  "kernelspec": {
   "display_name": "Python 3",
   "language": "python",
   "name": "python3"
  },
  "language_info": {
   "codemirror_mode": {
    "name": "ipython",
    "version": 3
   },
   "file_extension": ".py",
   "mimetype": "text/x-python",
   "name": "python",
   "nbconvert_exporter": "python",
   "pygments_lexer": "ipython3",
   "version": "3.8.8"
  }
 },
 "nbformat": 4,
 "nbformat_minor": 5
}
