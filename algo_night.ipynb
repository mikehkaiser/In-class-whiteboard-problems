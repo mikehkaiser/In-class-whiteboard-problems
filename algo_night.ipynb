{
 "cells": [
  {
   "cell_type": "code",
   "execution_count": null,
   "id": "9cc82f43",
   "metadata": {},
   "outputs": [],
   "source": [
    "There is a large pile of socks that must be paired by color. \n",
    "Given an array of integers representing the color of each sock, \n",
    "determine how many pairs of socks with matching colors there are.\n",
    "\n",
    "Example\n",
    "\n",
    "\n",
    "There is one pair of color and one of color. There are three odd socks left, one of each color. \n",
    "The number of pairs is .\n",
    "\n",
    "Function Description\n",
    "\n",
    "Complete the sockMerchant function in the editor below.\n",
    "\n",
    "sockMerchant has the following parameter(s):\n",
    "\n",
    "int n: the number of socks in the pile\n",
    "int ar[n]: the colors of each sock\n",
    "Returns\n",
    "\n",
    "int: the number of pairs\n",
    "Input Format\n",
    "\n",
    "The first line contains an integer , the number of socks represented in .\n",
    "The second line contains  space-separated integers, , the colors of the socks in the pile.\n",
    "\n",
    "Constraints\n",
    "\n",
    " where \n",
    "Sample Input\n",
    "\n",
    "STDIN                       Function\n",
    "-----                       --------\n",
    "9                           n = 9\n",
    "10 20 20 10 10 30 50 10 20  ar = [10, 20, 20, 10, 10, 30, 50, 10, 20]\n",
    "Sample Output\n",
    "\n",
    "3\n",
    "Explanation\n",
    "\n",
    "sock.png\n",
    "\n",
    "There are three pairs of socks."
   ]
  },
  {
   "cell_type": "code",
   "execution_count": 1,
   "id": "3ce84431",
   "metadata": {
    "scrolled": true
   },
   "outputs": [
    {
     "data": {
      "text/plain": [
       "3"
      ]
     },
     "execution_count": 1,
     "metadata": {},
     "output_type": "execute_result"
    }
   ],
   "source": [
    "# dictionary of x in arr, count of which is n\n",
    "# keep a count of each integer, // by 2\n",
    "\n",
    "def sockPairs(arr):\n",
    "    a_dict = {}\n",
    "    count = 0\n",
    "    for sock in arr:\n",
    "        if sock not in a_dict:\n",
    "            a_dict[sock] = 1\n",
    "        else:\n",
    "            a_dict[sock] += 1\n",
    "    # now floor divide count of each sock by 2, return total number of pairs\n",
    "    for sock in a_dict.keys():\n",
    "        count += (a_dict[sock] //2)\n",
    "    # return count\n",
    "    return count\n",
    "\n",
    "sockPairs([10, 20, 20, 10, 10, 30, 50, 10, 20])"
   ]
  },
  {
   "cell_type": "code",
   "execution_count": 2,
   "id": "a65b55d9",
   "metadata": {},
   "outputs": [
    {
     "ename": "SyntaxError",
     "evalue": "invalid syntax (<ipython-input-2-95dcc7d01c0a>, line 1)",
     "output_type": "error",
     "traceback": [
      "\u001b[0;36m  File \u001b[0;32m\"<ipython-input-2-95dcc7d01c0a>\"\u001b[0;36m, line \u001b[0;32m1\u001b[0m\n\u001b[0;31m    002. Find Common Characters\u001b[0m\n\u001b[0m         ^\u001b[0m\n\u001b[0;31mSyntaxError\u001b[0m\u001b[0;31m:\u001b[0m invalid syntax\n"
     ]
    }
   ],
   "source": [
    "002. Find Common Characters\n",
    "Easy\n",
    "\n",
    "1745\n",
    "\n",
    "160\n",
    "\n",
    "Add to List\n",
    "\n",
    "Share\n",
    "Given a string array words, return an array of all \n",
    "characters that show up in all strings within the words (including duplicates). \n",
    "You may return the answer in any order.\n",
    "\n",
    " \n",
    "\n",
    "Example 1:\n",
    "\n",
    "Input: words = [\"bella\",\"label\",\"roller\"]\n",
    "Output: [\"e\",\"l\",\"l\"]\n",
    "Example 2:\n",
    "\n",
    "Input: words = [\"cool\",\"lock\",\"cook\"]\n",
    "Output: [\"c\",\"o\"]\n",
    " \n",
    "\n",
    "Constraints:\n",
    "\n",
    "1 <= words.length <= 100\n",
    "1 <= words[i].length <= 100\n",
    "words[i] consists of lowercase English letters.\n",
    "\n",
    "# input is a list of strings\n",
    "# output is a list of letters\n",
    "# make a list of lists\n",
    "# not sure how to make new lists programmatically\n",
    "# divide each word into its individual letters\n",
    "# if char in word[i], append to new list\n",
    "# if char not in word[i+1]\n"
   ]
  },
  {
   "cell_type": "code",
   "execution_count": 24,
   "id": "8994e0aa",
   "metadata": {},
   "outputs": [
    {
     "name": "stdout",
     "output_type": "stream",
     "text": [
      "['e', 'l', 'l']\n"
     ]
    }
   ],
   "source": [
    "def commonLetters(arr):\n",
    "    compare_list = []\n",
    "    for char in arr[0]:\n",
    "        compare_list.append(char)\n",
    "    # now i have all letters in first word\n",
    "    # loop through next two words\n",
    "    # if a character from new_list is not in the word\n",
    "    # delete the character from new_list\n",
    "    for word in arr:\n",
    "        for char in compare_list:\n",
    "            if char not in word:\n",
    "                compare_list.remove(char)\n",
    "    return compare_list\n",
    "        \n",
    "commonLetters([\"bella\",\"label\",\"roller\"])"
   ]
  },
  {
   "cell_type": "code",
   "execution_count": null,
   "id": "124c55cd",
   "metadata": {},
   "outputs": [],
   "source": []
  }
 ],
 "metadata": {
  "kernelspec": {
   "display_name": "Python 3",
   "language": "python",
   "name": "python3"
  },
  "language_info": {
   "codemirror_mode": {
    "name": "ipython",
    "version": 3
   },
   "file_extension": ".py",
   "mimetype": "text/x-python",
   "name": "python",
   "nbconvert_exporter": "python",
   "pygments_lexer": "ipython3",
   "version": "3.8.8"
  }
 },
 "nbformat": 4,
 "nbformat_minor": 5
}
