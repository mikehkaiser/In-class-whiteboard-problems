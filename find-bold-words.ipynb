{
 "cells": [
  {
   "cell_type": "markdown",
   "id": "38ba4129",
   "metadata": {},
   "source": [
    "# Find Bold Words"
   ]
  },
  {
   "cell_type": "code",
   "execution_count": null,
   "id": "7cc31e6b",
   "metadata": {},
   "outputs": [],
   "source": [
    "Find Bold Words In String\n",
    "Given a string as a parameter to a function, find all of the words inside the string that should be bolded. \n",
    "A bolded word starts with any of the regular vowels in the alphabet. Return the words that \n",
    "should be bolded in a list/array\n",
    "Example:\n",
    "Input: The Black Dog sits among the apple tree\n",
    "Output: [ ‘among’, ‘apple’]\n",
    "Input: The umbrella company strikes again.\n",
    "Output: [ ‘umbrella’, ‘again’]"
   ]
  },
  {
   "cell_type": "code",
   "execution_count": 16,
   "id": "ea1814d3",
   "metadata": {},
   "outputs": [
    {
     "data": {
      "text/plain": [
       "['among', 'apple']"
      ]
     },
     "execution_count": 16,
     "metadata": {},
     "output_type": "execute_result"
    }
   ],
   "source": [
    "#input string\n",
    "#output list of strings\n",
    "#change string to a list, split on spaces.\n",
    "#if word[i][0] is in 'aeiou' list.append(word)\n",
    "\n",
    "def findBold(a_string):\n",
    "    return [word for word in a_string.split(\" \") if word.lower()[0] in 'aeiou']\n",
    "\n",
    "findBold('The Black Dog sits among the apple tree')"
   ]
  },
  {
   "cell_type": "code",
   "execution_count": null,
   "id": "c0f53f16",
   "metadata": {},
   "outputs": [],
   "source": [
    "# Try in regex\n",
    "\n",
    "pattern = re.compile('')"
   ]
  }
 ],
 "metadata": {
  "kernelspec": {
   "display_name": "Python 3",
   "language": "python",
   "name": "python3"
  },
  "language_info": {
   "codemirror_mode": {
    "name": "ipython",
    "version": 3
   },
   "file_extension": ".py",
   "mimetype": "text/x-python",
   "name": "python",
   "nbconvert_exporter": "python",
   "pygments_lexer": "ipython3",
   "version": "3.8.8"
  }
 },
 "nbformat": 4,
 "nbformat_minor": 5
}
