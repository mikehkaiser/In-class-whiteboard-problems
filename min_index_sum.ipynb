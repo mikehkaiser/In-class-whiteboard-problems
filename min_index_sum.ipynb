{
 "cells": [
  {
   "cell_type": "markdown",
   "id": "4618d29f",
   "metadata": {},
   "source": [
    "# Minimum Index Sum of Two Lists"
   ]
  },
  {
   "cell_type": "code",
   "execution_count": null,
   "id": "f6a6358f",
   "metadata": {},
   "outputs": [],
   "source": [
    "Minimum Index Sum of Two Lists\n",
    "Suppose Andy and Doris want to choose a restaurant for dinner, and they both have a list of favorite restaurants \n",
    "represented by strings.\n",
    "You need to help them find out their common interest with the least list index sum. \n",
    "If there is a choice tie between answers, output all of them with no order requirement. \n",
    "You could assume there always exists an answer.\n",
    " \n",
    "Example 1:\n",
    "Input: list1 = [\"Shogun\",\"Tapioca Express\",\"Burger King\",\"KFC\"], \n",
    "    list2 = [\"Piatti\",\"The Grill at Torrey Pines\",\"Hungry Hunter Steakhouse\",\"Shogun\"]\n",
    "Output: [\"Shogun\"]\n",
    "Explanation: The only restaurant they both like is \"Shogun\".\n",
    " \n",
    "Example 2:\n",
    "Input: list1 = [\"Shogun\",\"Tapioca Express\",\"Burger King\",\"KFC\"], list2 = [\"KFC\",\"Shogun\",\"Burger King\", \"Tapioca Express\"]\n",
    "Output: [\"Shogun\"]\n",
    "Explanation: The restaurant they both like and have the least index sum is \"Shogun\" with index sum 1 (0+1).\n",
    " \n",
    "Example 3:\n",
    "Input: list1 = [\"Shogun\",\"Tapioca Express\",\"Burger King\",\"KFC\"], \n",
    "    list2 = [\"KFC\",\"Burger King\",\"Tapioca Express\",\"Shogun\"]\n",
    "Output: [\"KFC\",\"Shogun\"]"
   ]
  },
  {
   "cell_type": "code",
   "execution_count": 53,
   "id": "9ab2e854",
   "metadata": {},
   "outputs": [
    {
     "data": {
      "text/plain": [
       "['Shogun', 'Tapioca Express', 'Burger King', 'KFC', 'Taco Bell']"
      ]
     },
     "execution_count": 53,
     "metadata": {},
     "output_type": "execute_result"
    }
   ],
   "source": [
    "#input is two lists\n",
    "#output is a list\n",
    "# if only one answer, it is the item that is present in both lists\n",
    "# if multiple answers are the same, add the indeces of the answers and output the one with the lowest sum\n",
    "# so I need a variable that is the sum of the indeces\n",
    "# if the sum is the same, output a list of both\n",
    "\n",
    "# try making a set out of the lists\n",
    "# naive: loop through both lists and append to a new list those items that are present in both\n",
    "# not naive: make a dictionary with key:value pairs of the common values and the sum of their indexes\n",
    "\n",
    "def minIndexSum(list_1, list_2):\n",
    "    inCommon = {}\n",
    "    for x in list_1:\n",
    "        if x in list_2:\n",
    "            inCommon[x] = list_1.index(x) + list_2.index(x)\n",
    "    minSum = min(inCommon.values())\n",
    "    return [x for x in inCommon if inCommon[x] == minSum]\n",
    "    \n",
    "list1 = [\"Shogun\",\"Tapioca Express\",\"Burger King\",\"KFC\", \"Taco Bell\"] \n",
    "list2 = [\"Taco Bell\",\"KFC\",\"Burger King\",\"Tapioca Express\",\"Shogun\"]\n",
    "\n",
    "minIndexSum(list1, list2)"
   ]
  },
  {
   "cell_type": "code",
   "execution_count": null,
   "id": "890bcd09",
   "metadata": {},
   "outputs": [],
   "source": []
  }
 ],
 "metadata": {
  "kernelspec": {
   "display_name": "Python 3",
   "language": "python",
   "name": "python3"
  },
  "language_info": {
   "codemirror_mode": {
    "name": "ipython",
    "version": 3
   },
   "file_extension": ".py",
   "mimetype": "text/x-python",
   "name": "python",
   "nbconvert_exporter": "python",
   "pygments_lexer": "ipython3",
   "version": "3.8.8"
  }
 },
 "nbformat": 4,
 "nbformat_minor": 5
}
