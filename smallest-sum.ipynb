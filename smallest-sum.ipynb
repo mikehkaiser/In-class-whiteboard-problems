{
 "cells": [
  {
   "cell_type": "markdown",
   "id": "5bf3164d",
   "metadata": {},
   "source": [
    "# Smallest Sum"
   ]
  },
  {
   "cell_type": "code",
   "execution_count": null,
   "id": "6ea13f88",
   "metadata": {},
   "outputs": [],
   "source": [
    "Given an array of non-zero integers - return the smallest possible sum of 2\n",
    "members of the array.\n",
    "example1:\n",
    "Input [1,3,4,4,5,2]\n",
    "Output = 3\n",
    "explanation -- 1 + 2 is the smallest possiblt sum of the given values in the list"
   ]
  },
  {
   "cell_type": "code",
   "execution_count": 8,
   "id": "efde11eb",
   "metadata": {
    "scrolled": true
   },
   "outputs": [
    {
     "name": "stdout",
     "output_type": "stream",
     "text": [
      "[1, 2, 3, 4, 4, 5]\n"
     ]
    },
    {
     "data": {
      "text/plain": [
       "3"
      ]
     },
     "execution_count": 8,
     "metadata": {},
     "output_type": "execute_result"
    }
   ],
   "source": [
    "def smallestSum(arr):\n",
    "    sort_arr = sorted(arr)\n",
    "    print(sorted(arr))\n",
    "    return sort_arr[0] + sort_arr[1]\n",
    "\n",
    "nums = [4,3,1,4,5,2]\n",
    "smallestSum(nums)"
   ]
  },
  {
   "cell_type": "code",
   "execution_count": 6,
   "id": "247ab108",
   "metadata": {},
   "outputs": [
    {
     "name": "stdout",
     "output_type": "stream",
     "text": [
      "2\n"
     ]
    }
   ],
   "source": [
    "print(nums[len(nums)-1])"
   ]
  },
  {
   "cell_type": "code",
   "execution_count": 14,
   "id": "7c15ad10",
   "metadata": {},
   "outputs": [
    {
     "data": {
      "text/plain": [
       "7"
      ]
     },
     "execution_count": 14,
     "metadata": {},
     "output_type": "execute_result"
    }
   ],
   "source": [
    "# two pointers - come back to this.\n",
    "\n",
    "def smallSum(arr):\n",
    "    for i in range(len(arr)):\n",
    "        left = i\n",
    "        right = i+1\n",
    "        result = None\n",
    "        while right < len(arr):\n",
    "            if not result:\n",
    "                result = arr[left] + arr[right]\n",
    "                right += 1\n",
    "            if result < arr[left] + arr[right]:\n",
    "                result = arr[left] + arr[right]\n",
    "            else:\n",
    "                break\n",
    "        return result\n",
    "        \n",
    "smallSum(nums)"
   ]
  },
  {
   "cell_type": "code",
   "execution_count": null,
   "id": "73f4d1ee",
   "metadata": {},
   "outputs": [],
   "source": []
  }
 ],
 "metadata": {
  "kernelspec": {
   "display_name": "Python 3",
   "language": "python",
   "name": "python3"
  },
  "language_info": {
   "codemirror_mode": {
    "name": "ipython",
    "version": 3
   },
   "file_extension": ".py",
   "mimetype": "text/x-python",
   "name": "python",
   "nbconvert_exporter": "python",
   "pygments_lexer": "ipython3",
   "version": "3.8.8"
  }
 },
 "nbformat": 4,
 "nbformat_minor": 5
}
